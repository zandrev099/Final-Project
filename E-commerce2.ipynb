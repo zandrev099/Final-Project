{
 "cells": [
  {
   "cell_type": "markdown",
   "id": "7e2bfc38-dae0-401b-ad27-3abc772ab853",
   "metadata": {},
   "source": [
    "## IMPORTAR BIBLIOTECAS"
   ]
  },
  {
   "cell_type": "code",
   "execution_count": 122,
   "id": "4cd49be0-5c3b-4662-96dd-d1de32b53512",
   "metadata": {},
   "outputs": [],
   "source": [
    "import pandas as pd\n",
    "import numpy as np\n",
    "import matplotlib.pyplot as plt\n",
    "import seaborn as sns\n",
    "import warnings\n",
    "warnings.filterwarnings(\"ignore\")\n",
    "warnings.simplefilter(action='ignore', category=FutureWarning)\n",
    "warnings.simplefilter(action='ignore', category=DeprecationWarning)\n",
    "from mlxtend.frequent_patterns import apriori\n",
    "from mlxtend.frequent_patterns import association_rules"
   ]
  },
  {
   "cell_type": "markdown",
   "id": "76e42b50-bda2-4ba7-83a7-49688d16e932",
   "metadata": {},
   "source": [
    "## CARGAR DATA"
   ]
  },
  {
   "cell_type": "code",
   "execution_count": 123,
   "id": "634f5642-9e65-4fe0-bb20-7024e01ac097",
   "metadata": {},
   "outputs": [],
   "source": [
    "df=pd.read_csv('/Users/andrezaragozabonilla/Desktop/E-commerce/data.csv',encoding= 'unicode_escape')"
   ]
  },
  {
   "cell_type": "code",
   "execution_count": 124,
   "id": "426906dc-a4b3-4005-976e-ec6fe9759bec",
   "metadata": {},
   "outputs": [
    {
     "data": {
      "text/html": [
       "<div>\n",
       "<style scoped>\n",
       "    .dataframe tbody tr th:only-of-type {\n",
       "        vertical-align: middle;\n",
       "    }\n",
       "\n",
       "    .dataframe tbody tr th {\n",
       "        vertical-align: top;\n",
       "    }\n",
       "\n",
       "    .dataframe thead th {\n",
       "        text-align: right;\n",
       "    }\n",
       "</style>\n",
       "<table border=\"1\" class=\"dataframe\">\n",
       "  <thead>\n",
       "    <tr style=\"text-align: right;\">\n",
       "      <th></th>\n",
       "      <th>InvoiceNo</th>\n",
       "      <th>StockCode</th>\n",
       "      <th>Description</th>\n",
       "      <th>Quantity</th>\n",
       "      <th>InvoiceDate</th>\n",
       "      <th>UnitPrice</th>\n",
       "      <th>CustomerID</th>\n",
       "      <th>Country</th>\n",
       "    </tr>\n",
       "  </thead>\n",
       "  <tbody>\n",
       "    <tr>\n",
       "      <th>339627</th>\n",
       "      <td>566601</td>\n",
       "      <td>22193</td>\n",
       "      <td>RED DINER WALL CLOCK</td>\n",
       "      <td>1</td>\n",
       "      <td>9/13/2011 15:57</td>\n",
       "      <td>8.50</td>\n",
       "      <td>16469.0</td>\n",
       "      <td>United Kingdom</td>\n",
       "    </tr>\n",
       "    <tr>\n",
       "      <th>403540</th>\n",
       "      <td>571636</td>\n",
       "      <td>20975</td>\n",
       "      <td>12 PENCILS SMALL TUBE RED RETROSPOT</td>\n",
       "      <td>24</td>\n",
       "      <td>10/18/2011 11:41</td>\n",
       "      <td>0.65</td>\n",
       "      <td>13509.0</td>\n",
       "      <td>United Kingdom</td>\n",
       "    </tr>\n",
       "    <tr>\n",
       "      <th>359471</th>\n",
       "      <td>568188</td>\n",
       "      <td>22544</td>\n",
       "      <td>MINI JIGSAW SPACEBOY</td>\n",
       "      <td>1</td>\n",
       "      <td>9/25/2011 14:33</td>\n",
       "      <td>0.42</td>\n",
       "      <td>16049.0</td>\n",
       "      <td>United Kingdom</td>\n",
       "    </tr>\n",
       "    <tr>\n",
       "      <th>375926</th>\n",
       "      <td>569487</td>\n",
       "      <td>22978</td>\n",
       "      <td>PANTRY ROLLING PIN</td>\n",
       "      <td>6</td>\n",
       "      <td>10/4/2011 12:55</td>\n",
       "      <td>3.75</td>\n",
       "      <td>13351.0</td>\n",
       "      <td>United Kingdom</td>\n",
       "    </tr>\n",
       "    <tr>\n",
       "      <th>136673</th>\n",
       "      <td>547967</td>\n",
       "      <td>85066</td>\n",
       "      <td>CREAM SWEETHEART MINI CHEST</td>\n",
       "      <td>1</td>\n",
       "      <td>3/28/2011 15:49</td>\n",
       "      <td>24.96</td>\n",
       "      <td>NaN</td>\n",
       "      <td>United Kingdom</td>\n",
       "    </tr>\n",
       "  </tbody>\n",
       "</table>\n",
       "</div>"
      ],
      "text/plain": [
       "       InvoiceNo StockCode                          Description  Quantity  \\\n",
       "339627    566601     22193                 RED DINER WALL CLOCK         1   \n",
       "403540    571636     20975  12 PENCILS SMALL TUBE RED RETROSPOT        24   \n",
       "359471    568188     22544                 MINI JIGSAW SPACEBOY         1   \n",
       "375926    569487     22978                   PANTRY ROLLING PIN         6   \n",
       "136673    547967     85066          CREAM SWEETHEART MINI CHEST         1   \n",
       "\n",
       "             InvoiceDate  UnitPrice  CustomerID         Country  \n",
       "339627   9/13/2011 15:57       8.50     16469.0  United Kingdom  \n",
       "403540  10/18/2011 11:41       0.65     13509.0  United Kingdom  \n",
       "359471   9/25/2011 14:33       0.42     16049.0  United Kingdom  \n",
       "375926   10/4/2011 12:55       3.75     13351.0  United Kingdom  \n",
       "136673   3/28/2011 15:49      24.96         NaN  United Kingdom  "
      ]
     },
     "execution_count": 124,
     "metadata": {},
     "output_type": "execute_result"
    }
   ],
   "source": [
    "df.sample(5)"
   ]
  },
  {
   "cell_type": "markdown",
   "id": "d78e5c54-a6fa-468f-ba92-0d264d6642b6",
   "metadata": {},
   "source": [
    "## Conociendo la DATA"
   ]
  },
  {
   "cell_type": "code",
   "execution_count": 125,
   "id": "4f16f77e-3644-41db-94c3-5ce61b95df08",
   "metadata": {},
   "outputs": [
    {
     "data": {
      "text/plain": [
       "(541909, 8)"
      ]
     },
     "execution_count": 125,
     "metadata": {},
     "output_type": "execute_result"
    }
   ],
   "source": [
    "# Dimensiones del DataFrame\n",
    "df.shape"
   ]
  },
  {
   "cell_type": "code",
   "execution_count": 126,
   "id": "5998a4e9-99f0-4f2c-803d-e2180cca4821",
   "metadata": {},
   "outputs": [
    {
     "name": "stdout",
     "output_type": "stream",
     "text": [
      "<class 'pandas.core.frame.DataFrame'>\n",
      "RangeIndex: 541909 entries, 0 to 541908\n",
      "Data columns (total 8 columns):\n",
      " #   Column       Non-Null Count   Dtype  \n",
      "---  ------       --------------   -----  \n",
      " 0   InvoiceNo    541909 non-null  object \n",
      " 1   StockCode    541909 non-null  object \n",
      " 2   Description  540455 non-null  object \n",
      " 3   Quantity     541909 non-null  int64  \n",
      " 4   InvoiceDate  541909 non-null  object \n",
      " 5   UnitPrice    541909 non-null  float64\n",
      " 6   CustomerID   406829 non-null  float64\n",
      " 7   Country      541909 non-null  object \n",
      "dtypes: float64(2), int64(1), object(5)\n",
      "memory usage: 33.1+ MB\n"
     ]
    }
   ],
   "source": [
    "df.info()"
   ]
  },
  {
   "cell_type": "code",
   "execution_count": 127,
   "id": "ed1fa8ca-c252-493c-81f4-e5a52f2ec760",
   "metadata": {},
   "outputs": [
    {
     "data": {
      "text/html": [
       "<div>\n",
       "<style scoped>\n",
       "    .dataframe tbody tr th:only-of-type {\n",
       "        vertical-align: middle;\n",
       "    }\n",
       "\n",
       "    .dataframe tbody tr th {\n",
       "        vertical-align: top;\n",
       "    }\n",
       "\n",
       "    .dataframe thead th {\n",
       "        text-align: right;\n",
       "    }\n",
       "</style>\n",
       "<table border=\"1\" class=\"dataframe\">\n",
       "  <thead>\n",
       "    <tr style=\"text-align: right;\">\n",
       "      <th></th>\n",
       "      <th>Quantity</th>\n",
       "      <th>UnitPrice</th>\n",
       "      <th>CustomerID</th>\n",
       "    </tr>\n",
       "  </thead>\n",
       "  <tbody>\n",
       "    <tr>\n",
       "      <th>count</th>\n",
       "      <td>541909.000000</td>\n",
       "      <td>541909.000000</td>\n",
       "      <td>406829.000000</td>\n",
       "    </tr>\n",
       "    <tr>\n",
       "      <th>mean</th>\n",
       "      <td>9.552250</td>\n",
       "      <td>4.611114</td>\n",
       "      <td>15287.690570</td>\n",
       "    </tr>\n",
       "    <tr>\n",
       "      <th>std</th>\n",
       "      <td>218.081158</td>\n",
       "      <td>96.759853</td>\n",
       "      <td>1713.600303</td>\n",
       "    </tr>\n",
       "    <tr>\n",
       "      <th>min</th>\n",
       "      <td>-80995.000000</td>\n",
       "      <td>-11062.060000</td>\n",
       "      <td>12346.000000</td>\n",
       "    </tr>\n",
       "    <tr>\n",
       "      <th>25%</th>\n",
       "      <td>1.000000</td>\n",
       "      <td>1.250000</td>\n",
       "      <td>13953.000000</td>\n",
       "    </tr>\n",
       "    <tr>\n",
       "      <th>50%</th>\n",
       "      <td>3.000000</td>\n",
       "      <td>2.080000</td>\n",
       "      <td>15152.000000</td>\n",
       "    </tr>\n",
       "    <tr>\n",
       "      <th>75%</th>\n",
       "      <td>10.000000</td>\n",
       "      <td>4.130000</td>\n",
       "      <td>16791.000000</td>\n",
       "    </tr>\n",
       "    <tr>\n",
       "      <th>max</th>\n",
       "      <td>80995.000000</td>\n",
       "      <td>38970.000000</td>\n",
       "      <td>18287.000000</td>\n",
       "    </tr>\n",
       "  </tbody>\n",
       "</table>\n",
       "</div>"
      ],
      "text/plain": [
       "            Quantity      UnitPrice     CustomerID\n",
       "count  541909.000000  541909.000000  406829.000000\n",
       "mean        9.552250       4.611114   15287.690570\n",
       "std       218.081158      96.759853    1713.600303\n",
       "min    -80995.000000  -11062.060000   12346.000000\n",
       "25%         1.000000       1.250000   13953.000000\n",
       "50%         3.000000       2.080000   15152.000000\n",
       "75%        10.000000       4.130000   16791.000000\n",
       "max     80995.000000   38970.000000   18287.000000"
      ]
     },
     "execution_count": 127,
     "metadata": {},
     "output_type": "execute_result"
    }
   ],
   "source": [
    "df.describe()"
   ]
  },
  {
   "cell_type": "code",
   "execution_count": 128,
   "id": "c1add2e4-efa0-4f0b-aed8-24d1535d24c5",
   "metadata": {},
   "outputs": [],
   "source": [
    "# Convertir la varaible InvoiceDate de tipo \"objecto\" a \"datatime\"\n",
    "df['InvoiceDate'] = pd.to_datetime(df['InvoiceDate'])"
   ]
  },
  {
   "cell_type": "code",
   "execution_count": 129,
   "id": "4b4eba17-5246-475a-8828-c0e94a8143b3",
   "metadata": {},
   "outputs": [
    {
     "data": {
      "text/plain": [
       "InvoiceNo              object\n",
       "StockCode              object\n",
       "Description            object\n",
       "Quantity                int64\n",
       "InvoiceDate    datetime64[ns]\n",
       "UnitPrice             float64\n",
       "CustomerID            float64\n",
       "Country                object\n",
       "dtype: object"
      ]
     },
     "execution_count": 129,
     "metadata": {},
     "output_type": "execute_result"
    }
   ],
   "source": [
    "# Verificar que se realizó el cambio\n",
    "df.dtypes"
   ]
  },
  {
   "cell_type": "markdown",
   "id": "78a207ff-b66b-4d5f-a027-c99fd295e40c",
   "metadata": {},
   "source": [
    "## Análisis de características"
   ]
  },
  {
   "cell_type": "markdown",
   "id": "0a5fedcd-a589-4454-8ed4-a3ec31eee988",
   "metadata": {},
   "source": [
    "- **Dividir categoricas y númericas**"
   ]
  },
  {
   "cell_type": "code",
   "execution_count": 130,
   "id": "b0f0cee2-9f0c-4ec8-85da-e21113311f44",
   "metadata": {},
   "outputs": [
    {
     "data": {
      "text/html": [
       "<div>\n",
       "<style scoped>\n",
       "    .dataframe tbody tr th:only-of-type {\n",
       "        vertical-align: middle;\n",
       "    }\n",
       "\n",
       "    .dataframe tbody tr th {\n",
       "        vertical-align: top;\n",
       "    }\n",
       "\n",
       "    .dataframe thead th {\n",
       "        text-align: right;\n",
       "    }\n",
       "</style>\n",
       "<table border=\"1\" class=\"dataframe\">\n",
       "  <thead>\n",
       "    <tr style=\"text-align: right;\">\n",
       "      <th></th>\n",
       "      <th>InvoiceNo</th>\n",
       "      <th>StockCode</th>\n",
       "      <th>Description</th>\n",
       "      <th>Country</th>\n",
       "    </tr>\n",
       "  </thead>\n",
       "  <tbody>\n",
       "    <tr>\n",
       "      <th>0</th>\n",
       "      <td>536365</td>\n",
       "      <td>85123A</td>\n",
       "      <td>WHITE HANGING HEART T-LIGHT HOLDER</td>\n",
       "      <td>United Kingdom</td>\n",
       "    </tr>\n",
       "    <tr>\n",
       "      <th>1</th>\n",
       "      <td>536365</td>\n",
       "      <td>71053</td>\n",
       "      <td>WHITE METAL LANTERN</td>\n",
       "      <td>United Kingdom</td>\n",
       "    </tr>\n",
       "    <tr>\n",
       "      <th>2</th>\n",
       "      <td>536365</td>\n",
       "      <td>84406B</td>\n",
       "      <td>CREAM CUPID HEARTS COAT HANGER</td>\n",
       "      <td>United Kingdom</td>\n",
       "    </tr>\n",
       "    <tr>\n",
       "      <th>3</th>\n",
       "      <td>536365</td>\n",
       "      <td>84029G</td>\n",
       "      <td>KNITTED UNION FLAG HOT WATER BOTTLE</td>\n",
       "      <td>United Kingdom</td>\n",
       "    </tr>\n",
       "    <tr>\n",
       "      <th>4</th>\n",
       "      <td>536365</td>\n",
       "      <td>84029E</td>\n",
       "      <td>RED WOOLLY HOTTIE WHITE HEART.</td>\n",
       "      <td>United Kingdom</td>\n",
       "    </tr>\n",
       "  </tbody>\n",
       "</table>\n",
       "</div>"
      ],
      "text/plain": [
       "  InvoiceNo StockCode                          Description         Country\n",
       "0    536365    85123A   WHITE HANGING HEART T-LIGHT HOLDER  United Kingdom\n",
       "1    536365     71053                  WHITE METAL LANTERN  United Kingdom\n",
       "2    536365    84406B       CREAM CUPID HEARTS COAT HANGER  United Kingdom\n",
       "3    536365    84029G  KNITTED UNION FLAG HOT WATER BOTTLE  United Kingdom\n",
       "4    536365    84029E       RED WOOLLY HOTTIE WHITE HEART.  United Kingdom"
      ]
     },
     "execution_count": 130,
     "metadata": {},
     "output_type": "execute_result"
    }
   ],
   "source": [
    "# Variables Categóricas\n",
    "cat_var = df.select_dtypes(include=['object'])\n",
    "cat_var.head()"
   ]
  },
  {
   "cell_type": "code",
   "execution_count": 131,
   "id": "86c6a89b-da0c-40c1-8061-42585447c423",
   "metadata": {},
   "outputs": [
    {
     "data": {
      "text/html": [
       "<div>\n",
       "<style scoped>\n",
       "    .dataframe tbody tr th:only-of-type {\n",
       "        vertical-align: middle;\n",
       "    }\n",
       "\n",
       "    .dataframe tbody tr th {\n",
       "        vertical-align: top;\n",
       "    }\n",
       "\n",
       "    .dataframe thead th {\n",
       "        text-align: right;\n",
       "    }\n",
       "</style>\n",
       "<table border=\"1\" class=\"dataframe\">\n",
       "  <thead>\n",
       "    <tr style=\"text-align: right;\">\n",
       "      <th></th>\n",
       "      <th>Quantity</th>\n",
       "      <th>InvoiceDate</th>\n",
       "      <th>UnitPrice</th>\n",
       "      <th>CustomerID</th>\n",
       "    </tr>\n",
       "  </thead>\n",
       "  <tbody>\n",
       "    <tr>\n",
       "      <th>0</th>\n",
       "      <td>6</td>\n",
       "      <td>2010-12-01 08:26:00</td>\n",
       "      <td>2.55</td>\n",
       "      <td>17850.0</td>\n",
       "    </tr>\n",
       "    <tr>\n",
       "      <th>1</th>\n",
       "      <td>6</td>\n",
       "      <td>2010-12-01 08:26:00</td>\n",
       "      <td>3.39</td>\n",
       "      <td>17850.0</td>\n",
       "    </tr>\n",
       "    <tr>\n",
       "      <th>2</th>\n",
       "      <td>8</td>\n",
       "      <td>2010-12-01 08:26:00</td>\n",
       "      <td>2.75</td>\n",
       "      <td>17850.0</td>\n",
       "    </tr>\n",
       "    <tr>\n",
       "      <th>3</th>\n",
       "      <td>6</td>\n",
       "      <td>2010-12-01 08:26:00</td>\n",
       "      <td>3.39</td>\n",
       "      <td>17850.0</td>\n",
       "    </tr>\n",
       "    <tr>\n",
       "      <th>4</th>\n",
       "      <td>6</td>\n",
       "      <td>2010-12-01 08:26:00</td>\n",
       "      <td>3.39</td>\n",
       "      <td>17850.0</td>\n",
       "    </tr>\n",
       "  </tbody>\n",
       "</table>\n",
       "</div>"
      ],
      "text/plain": [
       "   Quantity         InvoiceDate  UnitPrice  CustomerID\n",
       "0         6 2010-12-01 08:26:00       2.55     17850.0\n",
       "1         6 2010-12-01 08:26:00       3.39     17850.0\n",
       "2         8 2010-12-01 08:26:00       2.75     17850.0\n",
       "3         6 2010-12-01 08:26:00       3.39     17850.0\n",
       "4         6 2010-12-01 08:26:00       3.39     17850.0"
      ]
     },
     "execution_count": 131,
     "metadata": {},
     "output_type": "execute_result"
    }
   ],
   "source": [
    "# Variables Númericas\n",
    "num_var = df.select_dtypes(include=['int64', 'float64','datetime64[ns]'])\n",
    "num_var.head()"
   ]
  },
  {
   "cell_type": "markdown",
   "id": "80e3e315-8062-480e-8206-bf5b24475c55",
   "metadata": {},
   "source": [
    "## Manejo de Variables"
   ]
  },
  {
   "cell_type": "code",
   "execution_count": 132,
   "id": "37044dfa-3acb-4f30-bcba-b4166f4b3ed9",
   "metadata": {},
   "outputs": [],
   "source": [
    "# Se creara una copia de la data original\n",
    "df_copy=df.copy()"
   ]
  },
  {
   "cell_type": "code",
   "execution_count": 133,
   "id": "e18074ff-45ef-4b9d-aedd-f31386e47cdc",
   "metadata": {},
   "outputs": [
    {
     "data": {
      "text/plain": [
       "InvoiceNo           0\n",
       "StockCode           0\n",
       "Description      1454\n",
       "Quantity            0\n",
       "InvoiceDate         0\n",
       "UnitPrice           0\n",
       "CustomerID     135080\n",
       "Country             0\n",
       "dtype: int64"
      ]
     },
     "execution_count": 133,
     "metadata": {},
     "output_type": "execute_result"
    }
   ],
   "source": [
    "# Comenzaremos por revisar los nulos\n",
    "df_copy.isnull().sum()"
   ]
  },
  {
   "cell_type": "code",
   "execution_count": 134,
   "id": "21a5692c-2f95-4c81-a1d8-c154b973900b",
   "metadata": {},
   "outputs": [],
   "source": [
    "# Se decide dropear los nulos porque:\n",
    "# En el caso de Description es una cantidad poco representativa de los datos.\n",
    "# En el caso de CustomerID, es un número único, es por eso que no se puede remplazar con las medias ni con la moda.\n",
    "df_copy.dropna(inplace=True)"
   ]
  },
  {
   "cell_type": "code",
   "execution_count": 135,
   "id": "c85fb7ab-4e39-43c4-98aa-054763ab2311",
   "metadata": {},
   "outputs": [],
   "source": [
    "# Se elimina la columna InvoiceDate ya que no será relevante para el análisis.\n",
    "df_copy=df_copy.drop(['InvoiceDate'], axis=1)"
   ]
  },
  {
   "cell_type": "code",
   "execution_count": 136,
   "id": "0058714a-d49d-43cc-8951-e65ed3533c31",
   "metadata": {},
   "outputs": [
    {
     "data": {
      "text/plain": [
       "(406829, 7)"
      ]
     },
     "execution_count": 136,
     "metadata": {},
     "output_type": "execute_result"
    }
   ],
   "source": [
    "# Volvemos a revisar las dimensiones de nuestro Dataset\n",
    "df_copy.shape"
   ]
  },
  {
   "cell_type": "markdown",
   "id": "5c7c6803-845c-436d-9e64-affc3d95f583",
   "metadata": {},
   "source": [
    "# Exploratory Data Analysis"
   ]
  },
  {
   "cell_type": "code",
   "execution_count": 137,
   "id": "9107b84d-ac16-49f6-8a0f-8297c511dd57",
   "metadata": {},
   "outputs": [],
   "source": [
    "# Empezamos por convertir la variable CustomerId de tipo \"flotante\" a \"entero\"\n",
    "df_copy['CustomerID'] = df_copy['CustomerID'].astype(int)"
   ]
  },
  {
   "cell_type": "markdown",
   "id": "7204f09d-6847-4abb-b5ac-7fb813f4b8cf",
   "metadata": {},
   "source": [
    "### **Top 10 clientes con más compras**"
   ]
  },
  {
   "cell_type": "code",
   "execution_count": 138,
   "id": "52392e33-6592-4c4b-b498-6ac9490f817b",
   "metadata": {},
   "outputs": [
    {
     "data": {
      "image/png": "[encoded data removed]",
      "text/plain": [
       "<Figure size 600x400 with 1 Axes>"
      ]
     },
     "metadata": {},
     "output_type": "display_data"
    }
   ],
   "source": [
    "customer = df_copy['CustomerID'].value_counts().head(10).plot.bar(figsize=(6,4), color='orange')\n",
    "customer.set_xlabel('Cliente')\n",
    "customer.set_ylabel('Número de compras')\n",
    "customer.set_title('Top 10 clientes con más compras')\n",
    "\n",
    "for i in customer.patches:\n",
    "    customer.text(i.get_x()+0.1, i.get_height()+1, str(i.get_height()), fontsize=8)\n"
   ]
  },
  {
   "cell_type": "markdown",
   "id": "fc1a130f-1a20-487f-b745-ff10061996e3",
   "metadata": {},
   "source": [
    "### **Cantidad promedio de compras por cliente**"
   ]
  },
  {
   "cell_type": "code",
   "execution_count": 139,
   "id": "6f1e0b38-24e0-4943-b917-961e332af17d",
   "metadata": {},
   "outputs": [
    {
     "name": "stdout",
     "output_type": "stream",
     "text": [
      "La cantidad promedio de compras por cliente es: 22.39\n"
     ]
    }
   ],
   "source": [
    "# Agrupamos los datos por número de cliente y calcular el promedio de compras por cliente\n",
    "average_purchases = df_copy.groupby(\"CustomerID\")[\"Quantity\"].mean()\n",
    "\n",
    "print(\"La cantidad promedio de compras por cliente es:\", round(average_purchases.mean(),2))"
   ]
  },
  {
   "cell_type": "markdown",
   "id": "68037798-4987-4ddf-8c6a-74ca33e0fd50",
   "metadata": {},
   "source": [
    "### **Ventas por mes** "
   ]
  },
  {
   "cell_type": "code",
   "execution_count": 140,
   "id": "ec09e13f-0618-483f-83cb-1c845e8f4d40",
   "metadata": {},
   "outputs": [
    {
     "data": {
      "image/png": "[encoded data removed]",
      "text/plain": [
       "<Figure size 640x480 with 1 Axes>"
      ]
     },
     "metadata": {},
     "output_type": "display_data"
    }
   ],
   "source": [
    "# Agrupamos las ventas por mes\n",
    "sales_by_month = df.groupby(df['InvoiceDate'].dt.strftime('%Y-%m'))['Quantity'].sum()\n",
    "\n",
    "# Se crea un gráfico de barras\n",
    "ax = sales_by_month.plot(kind='bar', color='orange')\n",
    "\n",
    "# Establecemos las etiquetas de los ejes y el título\n",
    "plt.xlabel('Mes')\n",
    "plt.ylabel('Ventas')\n",
    "plt.title('Ventas por mes')\n",
    "\n",
    "# Agregamos el número exacto de ventas en la parte superior de cada barra\n",
    "for i in ax.containers:\n",
    "    ax.bar_label(i, label_type='edge', fontsize=6, padding=4)\n",
    "\n",
    "plt.show()"
   ]
  },
  {
   "cell_type": "markdown",
   "id": "a741e592-2ecd-4a15-b858-2bc27beab7e3",
   "metadata": {},
   "source": [
    "### **Ventas por día de la semana**"
   ]
  },
  {
   "cell_type": "code",
   "execution_count": 216,
   "id": "cd252733-235c-4569-8cc1-46e86216a603",
   "metadata": {},
   "outputs": [
    {
     "data": {
      "image/png": "[encoded data removed]",
      "text/plain": [
       "<Figure size 640x480 with 1 Axes>"
      ]
     },
     "metadata": {},
     "output_type": "display_data"
    }
   ],
   "source": [
    "# Extraer el día de la semana de la venta\n",
    "df['DayOfWeek'] = df['InvoiceDate'].dt.dayofweek\n",
    "\n",
    "# Asignar el nombre del día de la semana a cada venta\n",
    "day_mapping = {0: 'Lunes', 1: 'Martes', 2: 'Miércoles', 3: 'Sabado', 4: 'Viernes', 5: 'Jueves', 6: 'Domingo'}\n",
    "df['DayOfWeek'] = df['DayOfWeek'].map(day_mapping)\n",
    "\n",
    "# Agrupar las ventas por día de la semana\n",
    "sales_by_day = df.groupby('DayOfWeek')['Quantity'].sum()\n",
    "\n",
    "# Crear un gráfico de barras\n",
    "sales_by_day.plot(kind='bar', color='orange')\n",
    "\n",
    "# Establecer las etiquetas de los ejes y el título\n",
    "plt.xlabel('Día de la semana')\n",
    "plt.ylabel('Ventas')\n",
    "plt.title('Ventas por día de la semana')\n",
    "plt.show()"
   ]
  },
  {
   "cell_type": "markdown",
   "id": "de45e11e-25a5-4080-bffe-3be21e122d6c",
   "metadata": {},
   "source": [
    "### **Ventas por hora del día**"
   ]
  },
  {
   "cell_type": "code",
   "execution_count": 217,
   "id": "f0c572ad-23ae-4c6d-af5a-d15850f33552",
   "metadata": {},
   "outputs": [
    {
     "data": {
      "image/png": "[encoded data removed]",
      "text/plain": [
       "<Figure size 640x480 with 1 Axes>"
      ]
     },
     "metadata": {},
     "output_type": "display_data"
    }
   ],
   "source": [
    "# Extraer la hora de la venta\n",
    "df['Hour'] = df['InvoiceDate'].dt.hour\n",
    "\n",
    "# Agrupar las ventas por hora del día\n",
    "sales_by_hour = df.groupby('Hour')['Quantity'].sum()\n",
    "\n",
    "# Crear un gráfico de barras\n",
    "sales_by_hour.plot(kind='bar', color='orange')\n",
    "\n",
    "# Establecer las etiquetas de los ejes y el título\n",
    "plt.xlabel('Hora del día')\n",
    "plt.ylabel('Ventas')\n",
    "plt.title('Ventas por hora del día')\n",
    "plt.show()"
   ]
  },
  {
   "cell_type": "markdown",
   "id": "269431dc-f9b8-4407-97b7-6b7fbb5b0c77",
   "metadata": {},
   "source": [
    "### **Día y hora con más ventas**"
   ]
  },
  {
   "cell_type": "code",
   "execution_count": 218,
   "id": "80783cd1-d3dd-4fe0-909a-230b86713fa9",
   "metadata": {},
   "outputs": [
    {
     "data": {
      "image/png": "[encoded data removed]",
      "text/plain": [
       "<Figure size 640x480 with 2 Axes>"
      ]
     },
     "metadata": {},
     "output_type": "display_data"
    }
   ],
   "source": [
    "# Crear una tabla pivote de las ventas por día de la semana y hora del día\n",
    "sales_by_day_hour = df.pivot_table(index='DayOfWeek', columns='Hour', values='Quantity', aggfunc='sum')\n",
    "\n",
    "# Crear el heatmap\n",
    "sns.heatmap(sales_by_day_hour, cmap='coolwarm')\n",
    "\n",
    "# Mostrar el heatmap\n",
    "plt.show()"
   ]
  },
  {
   "cell_type": "markdown",
   "id": "564cf54e-3a7e-4518-85fb-df306e2285cd",
   "metadata": {},
   "source": [
    "- **Podemos concluir que las ventas alcanzan su punto máximo los sabados a las 12 del mediodía, según los datos analizados.**"
   ]
  },
  {
   "cell_type": "markdown",
   "id": "d477d126-984a-4bde-89c5-cd9ffc43a9e4",
   "metadata": {},
   "source": [
    "### **Top 10 artículos más vendidos**"
   ]
  },
  {
   "cell_type": "code",
   "execution_count": 144,
   "id": "f1f6fe8f-01e9-463f-bfd0-7f2bdf12a803",
   "metadata": {},
   "outputs": [],
   "source": [
    "canasta = df_copy.groupby('Description').count()[['Quantity']]\n",
    "canasta_clas=canasta.sort_values(by='Quantity', ascending=False)"
   ]
  },
  {
   "cell_type": "code",
   "execution_count": 145,
   "id": "13292ae6-d181-4821-b7f8-b66e6354afa7",
   "metadata": {},
   "outputs": [
    {
     "data": {
      "text/plain": [
       "<AxesSubplot:ylabel='Description'>"
      ]
     },
     "execution_count": 145,
     "metadata": {},
     "output_type": "execute_result"
    },
    {
     "data": {
      "image/png": "[encoded data removed]",
      "text/plain": [
       "<Figure size 640x480 with 1 Axes>"
      ]
     },
     "metadata": {},
     "output_type": "display_data"
    }
   ],
   "source": [
    "canasta_clas.head(10).plot.barh(color='orange')"
   ]
  },
  {
   "cell_type": "markdown",
   "id": "e5d51009-6107-47dd-8570-3762f3d566ea",
   "metadata": {},
   "source": [
    "### **Distribución de compras por país**"
   ]
  },
  {
   "cell_type": "code",
   "execution_count": 211,
   "id": "261f5668-0af4-4f4b-8ed6-733c53b7290e",
   "metadata": {},
   "outputs": [
    {
     "data": {
      "image/png": "[encoded data removed]",
      "text/plain": [
       "<Figure size 640x480 with 1 Axes>"
      ]
     },
     "metadata": {},
     "output_type": "display_data"
    }
   ],
   "source": [
    "# Agrupar las ventas por país\n",
    "sales_by_country = df.groupby('Country')['Quantity'].sum().reset_index()\n",
    "\n",
    "# Ordenar las ventas de mayor a menor\n",
    "sales_by_country = sales_by_country.sort_values(by='Quantity', ascending=False)\n",
    "\n",
    "# Crear el gráfico de pastel\n",
    "plt.pie(sales_by_country['Quantity'], labels=sales_by_country['Country'], autopct='%.1f%%')\n",
    "\n",
    "# Añadir título al gráfico\n",
    "plt.title('Distribución de compras por país')\n",
    "\n",
    "# Mostrar el gráfico\n",
    "plt.show()"
   ]
  },
  {
   "cell_type": "code",
   "execution_count": 215,
   "id": "c8e1f616-5283-4916-8a0b-06f89d2a38da",
   "metadata": {},
   "outputs": [
    {
     "data": {
      "image/png": "[encoded data removed]",
      "text/plain": [
       "<Figure size 640x480 with 1 Axes>"
      ]
     },
     "metadata": {},
     "output_type": "display_data"
    }
   ],
   "source": [
    "# Agrupar las ventas por país\n",
    "sales_by_country = df.groupby('Country')['Quantity'].sum().reset_index()\n",
    "\n",
    "# Ordenar las ventas de mayor a menor\n",
    "sales_by_country = sales_by_country.sort_values(by='Quantity', ascending=False)\n",
    "\n",
    "# Seleccionar los 5 países más representativos\n",
    "top_countries = sales_by_country.head(4)\n",
    "\n",
    "# Sumar las ventas de los países restantes y agruparlos en un nuevo DataFrame\n",
    "other_countries = pd.DataFrame({\n",
    "    'Country': ['Otros'],\n",
    "    'Quantity': [sales_by_country['Quantity'][5:].sum()]\n",
    "})\n",
    "\n",
    "# Agregar una fila adicional al nuevo DataFrame con el total de ventas de los países restantes\n",
    "top_and_other_countries = pd.concat([top_countries, other_countries])\n",
    "\n",
    "# Crear el gráfico de pastel utilizando los nuevos datos\n",
    "plt.pie(top_and_other_countries['Quantity'], labels=top_and_other_countries['Country'], autopct='%.1f%%')\n",
    "\n",
    "# Añadir título al gráfico\n",
    "plt.title('Distribución de compras por país')\n",
    "\n",
    "# Mostrar el gráfico\n",
    "plt.show()\n"
   ]
  },
  {
   "cell_type": "markdown",
   "id": "266a533b-bc3c-4acc-b668-9456694a785f",
   "metadata": {},
   "source": [
    "---"
   ]
  },
  {
   "cell_type": "markdown",
   "id": "6c504786-122b-4e5e-ae1d-0d1dad3f0bd7",
   "metadata": {},
   "source": [
    "---"
   ]
  },
  {
   "cell_type": "markdown",
   "id": "0add464a-ba07-40ba-b9f3-5e2e5a9dc98d",
   "metadata": {},
   "source": [
    "- **Se puede observar que el Reino Unido es el país que realiza más del 80% de las compras.**"
   ]
  },
  {
   "cell_type": "markdown",
   "id": "edf0d740-b6b6-43d5-82ea-5ffb1ecfce07",
   "metadata": {},
   "source": [
    "# DATA CLEANING"
   ]
  },
  {
   "cell_type": "code",
   "execution_count": 147,
   "id": "fba93bd4-a53b-41ff-bb39-674b79f78669",
   "metadata": {},
   "outputs": [],
   "source": [
    "# Removemos las transacciones canceladas que son las que contienen \"C\"\n",
    "df_copy=df_copy[~df_copy['InvoiceNo'].str.contains('C')]"
   ]
  },
  {
   "cell_type": "code",
   "execution_count": 148,
   "id": "5df871e5-bd23-432e-8b0a-d2acd5135eb0",
   "metadata": {},
   "outputs": [],
   "source": [
    "# Eliminar duplicado de la variable InvoiceNo\n",
    "df_copy.dropna(axis=0, subset= ['InvoiceNo'], inplace=True)"
   ]
  },
  {
   "cell_type": "markdown",
   "id": "85beec2d-3869-4222-9fbe-2b6372b8f4bc",
   "metadata": {},
   "source": [
    "### **Outliers**"
   ]
  },
  {
   "cell_type": "code",
   "execution_count": 149,
   "id": "0cb96c14-a75b-407c-9e52-6b4dfbfacbea",
   "metadata": {},
   "outputs": [],
   "source": [
    "# Tratar los Outliers (Interquartile Range Method)\n",
    "def outliers(factor):\n",
    "    Q1 = np.percentile(df_copy[factor], 25)\n",
    "    Q3 = np.percentile(df_copy[factor], 75)\n",
    "    \n",
    "    IQR = Q3-Q1\n",
    "    max = Q3+1.5*IQR\n",
    "    min = Q1-1.5*IQR\n",
    "    \n",
    "    print('Variable: ' + factor)\n",
    "    print('Máximo aceptado: ' + str(max))\n",
    "    print('Mínimo aceptado: ' + str(min))\n",
    "    \n",
    "    return (df_copy[(df_copy[factor]<max) & (df_copy[factor]>min)])"
   ]
  },
  {
   "cell_type": "code",
   "execution_count": 150,
   "id": "c7c28ede-aa66-4667-a28a-c8b1a78cfb9a",
   "metadata": {},
   "outputs": [
    {
     "name": "stdout",
     "output_type": "stream",
     "text": [
      "Variable: Quantity\n",
      "Máximo aceptado: 27.0\n",
      "Mínimo aceptado: -13.0\n"
     ]
    }
   ],
   "source": [
    "# Quitando outliers de \"Quantity\"\n",
    "df_copy = outliers('Quantity')"
   ]
  },
  {
   "cell_type": "code",
   "execution_count": 151,
   "id": "2bf78a53-ee7f-4ea9-9d4b-1c55e1a588a3",
   "metadata": {},
   "outputs": [
    {
     "name": "stdout",
     "output_type": "stream",
     "text": [
      "Variable: UnitPrice\n",
      "Máximo aceptado: 7.5\n",
      "Mínimo aceptado: -2.5\n"
     ]
    }
   ],
   "source": [
    "# Quitando outliers de \"UnitPrice\"\n",
    "df_copy = outliers('UnitPrice')"
   ]
  },
  {
   "cell_type": "markdown",
   "id": "bdbbe0da-da18-42ac-b2c6-cce91eeb5623",
   "metadata": {},
   "source": [
    "### **Duplicados**"
   ]
  },
  {
   "cell_type": "code",
   "execution_count": 152,
   "id": "be6ee3d0-7851-452f-bfd3-37599f4202f6",
   "metadata": {},
   "outputs": [
    {
     "name": "stdout",
     "output_type": "stream",
     "text": [
      "3560\n",
      "3377\n"
     ]
    }
   ],
   "source": [
    "# Remover Duplicados\n",
    "print(df_copy['Description'].nunique())\n",
    "print(df_copy['StockCode'].nunique())"
   ]
  },
  {
   "cell_type": "code",
   "execution_count": 153,
   "id": "ba14ab6f-cada-4365-89cc-b28ef36bedaf",
   "metadata": {},
   "outputs": [
    {
     "data": {
      "text/html": [
       "<div>\n",
       "<style scoped>\n",
       "    .dataframe tbody tr th:only-of-type {\n",
       "        vertical-align: middle;\n",
       "    }\n",
       "\n",
       "    .dataframe tbody tr th {\n",
       "        vertical-align: top;\n",
       "    }\n",
       "\n",
       "    .dataframe thead th {\n",
       "        text-align: right;\n",
       "    }\n",
       "</style>\n",
       "<table border=\"1\" class=\"dataframe\">\n",
       "  <thead>\n",
       "    <tr style=\"text-align: right;\">\n",
       "      <th></th>\n",
       "      <th>Description</th>\n",
       "      <th>StockCode</th>\n",
       "    </tr>\n",
       "  </thead>\n",
       "  <tbody>\n",
       "    <tr>\n",
       "      <th>1850</th>\n",
       "      <td>METAL SIGN,CUPCAKE SINGLE HOOK</td>\n",
       "      <td>3</td>\n",
       "    </tr>\n",
       "    <tr>\n",
       "      <th>1230</th>\n",
       "      <td>FROSTED WHITE BASE</td>\n",
       "      <td>2</td>\n",
       "    </tr>\n",
       "    <tr>\n",
       "      <th>2277</th>\n",
       "      <td>PINK FLOWERS RABBIT EASTER</td>\n",
       "      <td>2</td>\n",
       "    </tr>\n",
       "    <tr>\n",
       "      <th>2271</th>\n",
       "      <td>PINK FLOCK GLASS CANDLEHOLDER</td>\n",
       "      <td>2</td>\n",
       "    </tr>\n",
       "    <tr>\n",
       "      <th>2144</th>\n",
       "      <td>PAPER LANTERN 9 POINT SNOW STAR</td>\n",
       "      <td>2</td>\n",
       "    </tr>\n",
       "  </tbody>\n",
       "</table>\n",
       "</div>"
      ],
      "text/plain": [
       "                          Description  StockCode\n",
       "1850   METAL SIGN,CUPCAKE SINGLE HOOK          3\n",
       "1230              FROSTED WHITE BASE           2\n",
       "2277       PINK FLOWERS RABBIT EASTER          2\n",
       "2271    PINK FLOCK GLASS CANDLEHOLDER          2\n",
       "2144  PAPER LANTERN 9 POINT SNOW STAR          2"
      ]
     },
     "execution_count": 153,
     "metadata": {},
     "output_type": "execute_result"
    }
   ],
   "source": [
    "# Duplicados StockCode\n",
    "dup = df_copy[['Description', 'StockCode']].drop_duplicates()\n",
    "dup = dup.groupby('Description').count()[['StockCode']]\n",
    "dup = dup.reset_index()\n",
    "dup.sort_values(by=('StockCode'), ascending=False).head()"
   ]
  },
  {
   "cell_type": "code",
   "execution_count": 154,
   "id": "0560cfbe-5a83-49f2-aefe-ff4e98594f8d",
   "metadata": {},
   "outputs": [],
   "source": [
    "dup.rename(columns={'StockCode': 'StockCode_Count'}, inplace=True)"
   ]
  },
  {
   "cell_type": "code",
   "execution_count": 155,
   "id": "21c65e42-c951-419a-aa16-ca4a7b20c6bf",
   "metadata": {},
   "outputs": [],
   "source": [
    "dup = dup[dup['StockCode_Count']>1]"
   ]
  },
  {
   "cell_type": "code",
   "execution_count": 156,
   "id": "237459a2-75ec-4e8e-af8f-b095639088e2",
   "metadata": {},
   "outputs": [],
   "source": [
    "df_copy = df_copy[~df_copy['Description'].isin(dup['Description'])]"
   ]
  },
  {
   "cell_type": "code",
   "execution_count": 157,
   "id": "e6540d04-7e1d-4ca8-a43b-5f6e3df547c1",
   "metadata": {},
   "outputs": [
    {
     "name": "stdout",
     "output_type": "stream",
     "text": [
      "3541\n",
      "3342\n"
     ]
    }
   ],
   "source": [
    "print(df_copy['Description'].nunique())\n",
    "print(df_copy['StockCode'].nunique())"
   ]
  },
  {
   "cell_type": "code",
   "execution_count": 158,
   "id": "a0d61182-f29e-4636-9d97-9df8898b16a1",
   "metadata": {},
   "outputs": [
    {
     "data": {
      "text/html": [
       "<div>\n",
       "<style scoped>\n",
       "    .dataframe tbody tr th:only-of-type {\n",
       "        vertical-align: middle;\n",
       "    }\n",
       "\n",
       "    .dataframe tbody tr th {\n",
       "        vertical-align: top;\n",
       "    }\n",
       "\n",
       "    .dataframe thead th {\n",
       "        text-align: right;\n",
       "    }\n",
       "</style>\n",
       "<table border=\"1\" class=\"dataframe\">\n",
       "  <thead>\n",
       "    <tr style=\"text-align: right;\">\n",
       "      <th></th>\n",
       "      <th>StockCode</th>\n",
       "      <th>Description</th>\n",
       "    </tr>\n",
       "  </thead>\n",
       "  <tbody>\n",
       "    <tr>\n",
       "      <th>1928</th>\n",
       "      <td>23236</td>\n",
       "      <td>4</td>\n",
       "    </tr>\n",
       "    <tr>\n",
       "      <th>1888</th>\n",
       "      <td>23196</td>\n",
       "      <td>4</td>\n",
       "    </tr>\n",
       "    <tr>\n",
       "      <th>1822</th>\n",
       "      <td>23126</td>\n",
       "      <td>3</td>\n",
       "    </tr>\n",
       "    <tr>\n",
       "      <th>1666</th>\n",
       "      <td>22937</td>\n",
       "      <td>3</td>\n",
       "    </tr>\n",
       "    <tr>\n",
       "      <th>2076</th>\n",
       "      <td>23413</td>\n",
       "      <td>3</td>\n",
       "    </tr>\n",
       "  </tbody>\n",
       "</table>\n",
       "</div>"
      ],
      "text/plain": [
       "     StockCode  Description\n",
       "1928     23236            4\n",
       "1888     23196            4\n",
       "1822     23126            3\n",
       "1666     22937            3\n",
       "2076     23413            3"
      ]
     },
     "execution_count": 158,
     "metadata": {},
     "output_type": "execute_result"
    }
   ],
   "source": [
    "# Duplicados Description\n",
    "dup = df_copy[['Description', 'StockCode']].drop_duplicates()\n",
    "dup = dup.groupby('StockCode').count()[['Description']]\n",
    "dup = dup.reset_index()\n",
    "dup.sort_values(by=('Description'), ascending=False).head()"
   ]
  },
  {
   "cell_type": "code",
   "execution_count": 159,
   "id": "79ebe2ef-cd61-483c-ab15-a1891dd27b0d",
   "metadata": {},
   "outputs": [],
   "source": [
    "dup.rename(columns={'Description': 'Description_Count'}, inplace=True)"
   ]
  },
  {
   "cell_type": "code",
   "execution_count": 160,
   "id": "ba2a8919-45ba-4464-84ac-3024d1e2aca6",
   "metadata": {},
   "outputs": [],
   "source": [
    "dup = dup[dup['Description_Count']>1]"
   ]
  },
  {
   "cell_type": "code",
   "execution_count": 161,
   "id": "ec20aff0-fdfd-48f1-8aa8-7de8e3ac6701",
   "metadata": {},
   "outputs": [],
   "source": [
    "df_copy = df_copy[~df_copy['StockCode'].isin(dup['StockCode'])]"
   ]
  },
  {
   "cell_type": "code",
   "execution_count": 162,
   "id": "0a37c993-1771-4996-9e65-2afd225eb39d",
   "metadata": {},
   "outputs": [
    {
     "name": "stdout",
     "output_type": "stream",
     "text": [
      "3158\n",
      "3158\n"
     ]
    }
   ],
   "source": [
    "print(df_copy['Description'].nunique())\n",
    "print(df_copy['StockCode'].nunique())"
   ]
  },
  {
   "cell_type": "code",
   "execution_count": 163,
   "id": "c37def28-c8d4-4442-b539-abd9f315ee98",
   "metadata": {},
   "outputs": [],
   "source": [
    "# Quitar el CP en Código del Producto\n",
    "df_copy = df_copy[~df_copy['StockCode'].str.contains(\"POST\", na=False)]"
   ]
  },
  {
   "cell_type": "markdown",
   "id": "35b6b63c-0b2a-4369-b9e8-e9665efdb5c4",
   "metadata": {},
   "source": [
    "# France"
   ]
  },
  {
   "cell_type": "markdown",
   "id": "def46f7e-12f0-4e67-a590-96efd443bf2b",
   "metadata": {},
   "source": [
    "**Para efectos de este proyecto, trabajaremos con los datos de \"France\", como proxima meta será realizar el análisis para los demás países**"
   ]
  },
  {
   "cell_type": "code",
   "execution_count": 164,
   "id": "1d133c5d-d816-48b8-b073-61a7d31beb6c",
   "metadata": {},
   "outputs": [
    {
     "data": {
      "text/plain": [
       "United Kingdom    276422\n",
       "Germany             6765\n",
       "France              6309\n",
       "EIRE                4940\n",
       "Spain               1869\n",
       "Name: Country, dtype: int64"
      ]
     },
     "execution_count": 164,
     "metadata": {},
     "output_type": "execute_result"
    }
   ],
   "source": [
    "df_copy['Country'].value_counts().head()"
   ]
  },
  {
   "cell_type": "code",
   "execution_count": 165,
   "id": "5e3fea01-f4e1-467f-9186-65e343ba6ab2",
   "metadata": {},
   "outputs": [],
   "source": [
    "df_france=df_copy[df_copy['Country']=='France']"
   ]
  },
  {
   "cell_type": "code",
   "execution_count": 166,
   "id": "d5a944ba-db52-4ed4-9304-70860edc0141",
   "metadata": {},
   "outputs": [
    {
     "data": {
      "text/html": [
       "<div>\n",
       "<style scoped>\n",
       "    .dataframe tbody tr th:only-of-type {\n",
       "        vertical-align: middle;\n",
       "    }\n",
       "\n",
       "    .dataframe tbody tr th {\n",
       "        vertical-align: top;\n",
       "    }\n",
       "\n",
       "    .dataframe thead th {\n",
       "        text-align: right;\n",
       "    }\n",
       "</style>\n",
       "<table border=\"1\" class=\"dataframe\">\n",
       "  <thead>\n",
       "    <tr style=\"text-align: right;\">\n",
       "      <th></th>\n",
       "      <th>InvoiceNo</th>\n",
       "      <th>StockCode</th>\n",
       "      <th>Description</th>\n",
       "      <th>Quantity</th>\n",
       "      <th>UnitPrice</th>\n",
       "      <th>CustomerID</th>\n",
       "      <th>Country</th>\n",
       "    </tr>\n",
       "  </thead>\n",
       "  <tbody>\n",
       "    <tr>\n",
       "      <th>26</th>\n",
       "      <td>536370</td>\n",
       "      <td>22728</td>\n",
       "      <td>ALARM CLOCK BAKELIKE PINK</td>\n",
       "      <td>24</td>\n",
       "      <td>3.75</td>\n",
       "      <td>12583</td>\n",
       "      <td>France</td>\n",
       "    </tr>\n",
       "    <tr>\n",
       "      <th>27</th>\n",
       "      <td>536370</td>\n",
       "      <td>22727</td>\n",
       "      <td>ALARM CLOCK BAKELIKE RED</td>\n",
       "      <td>24</td>\n",
       "      <td>3.75</td>\n",
       "      <td>12583</td>\n",
       "      <td>France</td>\n",
       "    </tr>\n",
       "    <tr>\n",
       "      <th>28</th>\n",
       "      <td>536370</td>\n",
       "      <td>22726</td>\n",
       "      <td>ALARM CLOCK BAKELIKE GREEN</td>\n",
       "      <td>12</td>\n",
       "      <td>3.75</td>\n",
       "      <td>12583</td>\n",
       "      <td>France</td>\n",
       "    </tr>\n",
       "    <tr>\n",
       "      <th>29</th>\n",
       "      <td>536370</td>\n",
       "      <td>21724</td>\n",
       "      <td>PANDA AND BUNNIES STICKER SHEET</td>\n",
       "      <td>12</td>\n",
       "      <td>0.85</td>\n",
       "      <td>12583</td>\n",
       "      <td>France</td>\n",
       "    </tr>\n",
       "    <tr>\n",
       "      <th>30</th>\n",
       "      <td>536370</td>\n",
       "      <td>21883</td>\n",
       "      <td>STARS GIFT TAPE</td>\n",
       "      <td>24</td>\n",
       "      <td>0.65</td>\n",
       "      <td>12583</td>\n",
       "      <td>France</td>\n",
       "    </tr>\n",
       "    <tr>\n",
       "      <th>...</th>\n",
       "      <td>...</td>\n",
       "      <td>...</td>\n",
       "      <td>...</td>\n",
       "      <td>...</td>\n",
       "      <td>...</td>\n",
       "      <td>...</td>\n",
       "      <td>...</td>\n",
       "    </tr>\n",
       "    <tr>\n",
       "      <th>541902</th>\n",
       "      <td>581587</td>\n",
       "      <td>22629</td>\n",
       "      <td>SPACEBOY LUNCH BOX</td>\n",
       "      <td>12</td>\n",
       "      <td>1.95</td>\n",
       "      <td>12680</td>\n",
       "      <td>France</td>\n",
       "    </tr>\n",
       "    <tr>\n",
       "      <th>541904</th>\n",
       "      <td>581587</td>\n",
       "      <td>22613</td>\n",
       "      <td>PACK OF 20 SPACEBOY NAPKINS</td>\n",
       "      <td>12</td>\n",
       "      <td>0.85</td>\n",
       "      <td>12680</td>\n",
       "      <td>France</td>\n",
       "    </tr>\n",
       "    <tr>\n",
       "      <th>541905</th>\n",
       "      <td>581587</td>\n",
       "      <td>22899</td>\n",
       "      <td>CHILDREN'S APRON DOLLY GIRL</td>\n",
       "      <td>6</td>\n",
       "      <td>2.10</td>\n",
       "      <td>12680</td>\n",
       "      <td>France</td>\n",
       "    </tr>\n",
       "    <tr>\n",
       "      <th>541907</th>\n",
       "      <td>581587</td>\n",
       "      <td>23255</td>\n",
       "      <td>CHILDRENS CUTLERY CIRCUS PARADE</td>\n",
       "      <td>4</td>\n",
       "      <td>4.15</td>\n",
       "      <td>12680</td>\n",
       "      <td>France</td>\n",
       "    </tr>\n",
       "    <tr>\n",
       "      <th>541908</th>\n",
       "      <td>581587</td>\n",
       "      <td>22138</td>\n",
       "      <td>BAKING SET 9 PIECE RETROSPOT</td>\n",
       "      <td>3</td>\n",
       "      <td>4.95</td>\n",
       "      <td>12680</td>\n",
       "      <td>France</td>\n",
       "    </tr>\n",
       "  </tbody>\n",
       "</table>\n",
       "<p>6309 rows × 7 columns</p>\n",
       "</div>"
      ],
      "text/plain": [
       "       InvoiceNo StockCode                      Description  Quantity  \\\n",
       "26        536370     22728        ALARM CLOCK BAKELIKE PINK        24   \n",
       "27        536370     22727        ALARM CLOCK BAKELIKE RED         24   \n",
       "28        536370     22726       ALARM CLOCK BAKELIKE GREEN        12   \n",
       "29        536370     21724  PANDA AND BUNNIES STICKER SHEET        12   \n",
       "30        536370     21883                 STARS GIFT TAPE         24   \n",
       "...          ...       ...                              ...       ...   \n",
       "541902    581587     22629              SPACEBOY LUNCH BOX         12   \n",
       "541904    581587     22613      PACK OF 20 SPACEBOY NAPKINS        12   \n",
       "541905    581587     22899     CHILDREN'S APRON DOLLY GIRL          6   \n",
       "541907    581587     23255  CHILDRENS CUTLERY CIRCUS PARADE         4   \n",
       "541908    581587     22138    BAKING SET 9 PIECE RETROSPOT          3   \n",
       "\n",
       "        UnitPrice  CustomerID Country  \n",
       "26           3.75       12583  France  \n",
       "27           3.75       12583  France  \n",
       "28           3.75       12583  France  \n",
       "29           0.85       12583  France  \n",
       "30           0.65       12583  France  \n",
       "...           ...         ...     ...  \n",
       "541902       1.95       12680  France  \n",
       "541904       0.85       12680  France  \n",
       "541905       2.10       12680  France  \n",
       "541907       4.15       12680  France  \n",
       "541908       4.95       12680  France  \n",
       "\n",
       "[6309 rows x 7 columns]"
      ]
     },
     "execution_count": 166,
     "metadata": {},
     "output_type": "execute_result"
    }
   ],
   "source": [
    "df_france"
   ]
  },
  {
   "cell_type": "markdown",
   "id": "6ef94a14-5d27-4462-87f7-e0e3cafd1a7f",
   "metadata": {},
   "source": [
    "### Encoding"
   ]
  },
  {
   "cell_type": "code",
   "execution_count": 175,
   "id": "088bd223-6d07-4d48-86fc-ddcc2827fd80",
   "metadata": {},
   "outputs": [],
   "source": [
    "def matrix(df, id=False):\n",
    "    if id:\n",
    "        return df.groupby(['InvoiceNo', 'Description'])['Quantity'].sum().unstack().fillna(0). \\\n",
    "            applymap(lambda x: 1 if x > 0 else 0)\n",
    "    else:\n",
    "        return df.groupby(['InvoiceNo', 'StockCode'])['Quantity'].sum().unstack().fillna(0). \\\n",
    "            applymap(lambda x: 1 if x > 0 else 0)\n",
    "    \n",
    "    "
   ]
  },
  {
   "cell_type": "code",
   "execution_count": 176,
   "id": "b5b84ae8-7149-4670-9cfd-5251867a1ba6",
   "metadata": {},
   "outputs": [
    {
     "data": {
      "text/html": [
       "<div>\n",
       "<style scoped>\n",
       "    .dataframe tbody tr th:only-of-type {\n",
       "        vertical-align: middle;\n",
       "    }\n",
       "\n",
       "    .dataframe tbody tr th {\n",
       "        vertical-align: top;\n",
       "    }\n",
       "\n",
       "    .dataframe thead th {\n",
       "        text-align: right;\n",
       "    }\n",
       "</style>\n",
       "<table border=\"1\" class=\"dataframe\">\n",
       "  <thead>\n",
       "    <tr style=\"text-align: right;\">\n",
       "      <th>Description</th>\n",
       "      <th>DOLLY GIRL BEAKER</th>\n",
       "      <th>TRELLIS COAT RACK</th>\n",
       "      <th>10 COLOUR SPACEBOY PEN</th>\n",
       "      <th>12 COLOURED PARTY BALLOONS</th>\n",
       "      <th>12 MESSAGE CARDS WITH ENVELOPES</th>\n",
       "      <th>12 PENCIL SMALL TUBE WOODLAND</th>\n",
       "      <th>12 PENCILS SMALL TUBE RED RETROSPOT</th>\n",
       "      <th>12 PENCILS SMALL TUBE SKULL</th>\n",
       "      <th>12 PENCILS TALL TUBE POSY</th>\n",
       "      <th>12 PENCILS TALL TUBE RED RETROSPOT</th>\n",
       "      <th>...</th>\n",
       "      <th>WRAP PAISLEY PARK</th>\n",
       "      <th>WRAP PINK FAIRY CAKES</th>\n",
       "      <th>WRAP POPPIES  DESIGN</th>\n",
       "      <th>WRAP RED APPLES</th>\n",
       "      <th>WRAP SUKI AND FRIENDS</th>\n",
       "      <th>YELLOW COAT RACK PARIS FASHION</th>\n",
       "      <th>YELLOW GIANT GARDEN THERMOMETER</th>\n",
       "      <th>ZINC FOLKART SLEIGH BELLS</th>\n",
       "      <th>ZINC METAL HEART DECORATION</th>\n",
       "      <th>ZINC T-LIGHT HOLDER STARS SMALL</th>\n",
       "    </tr>\n",
       "    <tr>\n",
       "      <th>InvoiceNo</th>\n",
       "      <th></th>\n",
       "      <th></th>\n",
       "      <th></th>\n",
       "      <th></th>\n",
       "      <th></th>\n",
       "      <th></th>\n",
       "      <th></th>\n",
       "      <th></th>\n",
       "      <th></th>\n",
       "      <th></th>\n",
       "      <th></th>\n",
       "      <th></th>\n",
       "      <th></th>\n",
       "      <th></th>\n",
       "      <th></th>\n",
       "      <th></th>\n",
       "      <th></th>\n",
       "      <th></th>\n",
       "      <th></th>\n",
       "      <th></th>\n",
       "      <th></th>\n",
       "    </tr>\n",
       "  </thead>\n",
       "  <tbody>\n",
       "    <tr>\n",
       "      <th>536370</th>\n",
       "      <td>0</td>\n",
       "      <td>0</td>\n",
       "      <td>0</td>\n",
       "      <td>0</td>\n",
       "      <td>0</td>\n",
       "      <td>0</td>\n",
       "      <td>0</td>\n",
       "      <td>0</td>\n",
       "      <td>0</td>\n",
       "      <td>0</td>\n",
       "      <td>...</td>\n",
       "      <td>0</td>\n",
       "      <td>0</td>\n",
       "      <td>0</td>\n",
       "      <td>0</td>\n",
       "      <td>0</td>\n",
       "      <td>0</td>\n",
       "      <td>0</td>\n",
       "      <td>0</td>\n",
       "      <td>0</td>\n",
       "      <td>0</td>\n",
       "    </tr>\n",
       "    <tr>\n",
       "      <th>536852</th>\n",
       "      <td>0</td>\n",
       "      <td>0</td>\n",
       "      <td>0</td>\n",
       "      <td>0</td>\n",
       "      <td>0</td>\n",
       "      <td>0</td>\n",
       "      <td>0</td>\n",
       "      <td>0</td>\n",
       "      <td>0</td>\n",
       "      <td>0</td>\n",
       "      <td>...</td>\n",
       "      <td>0</td>\n",
       "      <td>0</td>\n",
       "      <td>0</td>\n",
       "      <td>0</td>\n",
       "      <td>0</td>\n",
       "      <td>0</td>\n",
       "      <td>0</td>\n",
       "      <td>0</td>\n",
       "      <td>0</td>\n",
       "      <td>0</td>\n",
       "    </tr>\n",
       "    <tr>\n",
       "      <th>536974</th>\n",
       "      <td>0</td>\n",
       "      <td>0</td>\n",
       "      <td>0</td>\n",
       "      <td>0</td>\n",
       "      <td>0</td>\n",
       "      <td>0</td>\n",
       "      <td>0</td>\n",
       "      <td>0</td>\n",
       "      <td>0</td>\n",
       "      <td>0</td>\n",
       "      <td>...</td>\n",
       "      <td>0</td>\n",
       "      <td>0</td>\n",
       "      <td>0</td>\n",
       "      <td>0</td>\n",
       "      <td>0</td>\n",
       "      <td>0</td>\n",
       "      <td>0</td>\n",
       "      <td>0</td>\n",
       "      <td>0</td>\n",
       "      <td>0</td>\n",
       "    </tr>\n",
       "    <tr>\n",
       "      <th>537065</th>\n",
       "      <td>0</td>\n",
       "      <td>0</td>\n",
       "      <td>0</td>\n",
       "      <td>0</td>\n",
       "      <td>0</td>\n",
       "      <td>0</td>\n",
       "      <td>0</td>\n",
       "      <td>0</td>\n",
       "      <td>0</td>\n",
       "      <td>0</td>\n",
       "      <td>...</td>\n",
       "      <td>0</td>\n",
       "      <td>0</td>\n",
       "      <td>0</td>\n",
       "      <td>0</td>\n",
       "      <td>0</td>\n",
       "      <td>0</td>\n",
       "      <td>0</td>\n",
       "      <td>0</td>\n",
       "      <td>0</td>\n",
       "      <td>0</td>\n",
       "    </tr>\n",
       "    <tr>\n",
       "      <th>537463</th>\n",
       "      <td>0</td>\n",
       "      <td>0</td>\n",
       "      <td>0</td>\n",
       "      <td>0</td>\n",
       "      <td>0</td>\n",
       "      <td>0</td>\n",
       "      <td>0</td>\n",
       "      <td>0</td>\n",
       "      <td>0</td>\n",
       "      <td>0</td>\n",
       "      <td>...</td>\n",
       "      <td>0</td>\n",
       "      <td>0</td>\n",
       "      <td>0</td>\n",
       "      <td>0</td>\n",
       "      <td>0</td>\n",
       "      <td>0</td>\n",
       "      <td>0</td>\n",
       "      <td>0</td>\n",
       "      <td>0</td>\n",
       "      <td>0</td>\n",
       "    </tr>\n",
       "  </tbody>\n",
       "</table>\n",
       "<p>5 rows × 1248 columns</p>\n",
       "</div>"
      ],
      "text/plain": [
       "Description   DOLLY GIRL BEAKER   TRELLIS COAT RACK  10 COLOUR SPACEBOY PEN  \\\n",
       "InvoiceNo                                                                     \n",
       "536370                        0                   0                       0   \n",
       "536852                        0                   0                       0   \n",
       "536974                        0                   0                       0   \n",
       "537065                        0                   0                       0   \n",
       "537463                        0                   0                       0   \n",
       "\n",
       "Description  12 COLOURED PARTY BALLOONS  12 MESSAGE CARDS WITH ENVELOPES  \\\n",
       "InvoiceNo                                                                  \n",
       "536370                                0                                0   \n",
       "536852                                0                                0   \n",
       "536974                                0                                0   \n",
       "537065                                0                                0   \n",
       "537463                                0                                0   \n",
       "\n",
       "Description  12 PENCIL SMALL TUBE WOODLAND  \\\n",
       "InvoiceNo                                    \n",
       "536370                                   0   \n",
       "536852                                   0   \n",
       "536974                                   0   \n",
       "537065                                   0   \n",
       "537463                                   0   \n",
       "\n",
       "Description  12 PENCILS SMALL TUBE RED RETROSPOT  12 PENCILS SMALL TUBE SKULL  \\\n",
       "InvoiceNo                                                                       \n",
       "536370                                         0                            0   \n",
       "536852                                         0                            0   \n",
       "536974                                         0                            0   \n",
       "537065                                         0                            0   \n",
       "537463                                         0                            0   \n",
       "\n",
       "Description  12 PENCILS TALL TUBE POSY  12 PENCILS TALL TUBE RED RETROSPOT  \\\n",
       "InvoiceNo                                                                    \n",
       "536370                               0                                   0   \n",
       "536852                               0                                   0   \n",
       "536974                               0                                   0   \n",
       "537065                               0                                   0   \n",
       "537463                               0                                   0   \n",
       "\n",
       "Description  ...  WRAP PAISLEY PARK   WRAP PINK FAIRY CAKES   \\\n",
       "InvoiceNo    ...                                               \n",
       "536370       ...                   0                       0   \n",
       "536852       ...                   0                       0   \n",
       "536974       ...                   0                       0   \n",
       "537065       ...                   0                       0   \n",
       "537463       ...                   0                       0   \n",
       "\n",
       "Description  WRAP POPPIES  DESIGN  WRAP RED APPLES   WRAP SUKI AND FRIENDS  \\\n",
       "InvoiceNo                                                                    \n",
       "536370                          0                 0                      0   \n",
       "536852                          0                 0                      0   \n",
       "536974                          0                 0                      0   \n",
       "537065                          0                 0                      0   \n",
       "537463                          0                 0                      0   \n",
       "\n",
       "Description  YELLOW COAT RACK PARIS FASHION  YELLOW GIANT GARDEN THERMOMETER  \\\n",
       "InvoiceNo                                                                      \n",
       "536370                                    0                                0   \n",
       "536852                                    0                                0   \n",
       "536974                                    0                                0   \n",
       "537065                                    0                                0   \n",
       "537463                                    0                                0   \n",
       "\n",
       "Description  ZINC FOLKART SLEIGH BELLS  ZINC METAL HEART DECORATION  \\\n",
       "InvoiceNo                                                             \n",
       "536370                               0                            0   \n",
       "536852                               0                            0   \n",
       "536974                               0                            0   \n",
       "537065                               0                            0   \n",
       "537463                               0                            0   \n",
       "\n",
       "Description  ZINC T-LIGHT HOLDER STARS SMALL  \n",
       "InvoiceNo                                     \n",
       "536370                                     0  \n",
       "536852                                     0  \n",
       "536974                                     0  \n",
       "537065                                     0  \n",
       "537463                                     0  \n",
       "\n",
       "[5 rows x 1248 columns]"
      ]
     },
     "execution_count": 176,
     "metadata": {},
     "output_type": "execute_result"
    }
   ],
   "source": [
    "productos = matrix(df_france, id=True)\n",
    "productos.head()"
   ]
  },
  {
   "cell_type": "markdown",
   "id": "669c5c2e-1085-451e-a2fa-3fa49a11ed87",
   "metadata": {},
   "source": [
    "### Entrenando al modelo"
   ]
  },
  {
   "cell_type": "markdown",
   "id": "bec17236-eba7-4627-b9f1-f29ce72e3936",
   "metadata": {},
   "source": [
    "- **Algoritmo Apriori** "
   ]
  },
  {
   "cell_type": "code",
   "execution_count": 177,
   "id": "963a1ec8-2e24-469c-ad36-fba9044dbb9d",
   "metadata": {},
   "outputs": [
    {
     "data": {
      "text/html": [
       "<div>\n",
       "<style scoped>\n",
       "    .dataframe tbody tr th:only-of-type {\n",
       "        vertical-align: middle;\n",
       "    }\n",
       "\n",
       "    .dataframe tbody tr th {\n",
       "        vertical-align: top;\n",
       "    }\n",
       "\n",
       "    .dataframe thead th {\n",
       "        text-align: right;\n",
       "    }\n",
       "</style>\n",
       "<table border=\"1\" class=\"dataframe\">\n",
       "  <thead>\n",
       "    <tr style=\"text-align: right;\">\n",
       "      <th></th>\n",
       "      <th>support</th>\n",
       "      <th>itemsets</th>\n",
       "    </tr>\n",
       "  </thead>\n",
       "  <tbody>\n",
       "    <tr>\n",
       "      <th>0</th>\n",
       "      <td>0.025000</td>\n",
       "      <td>( DOLLY GIRL BEAKER)</td>\n",
       "    </tr>\n",
       "    <tr>\n",
       "      <th>1</th>\n",
       "      <td>0.027778</td>\n",
       "      <td>(10 COLOUR SPACEBOY PEN)</td>\n",
       "    </tr>\n",
       "    <tr>\n",
       "      <th>2</th>\n",
       "      <td>0.016667</td>\n",
       "      <td>(12 COLOURED PARTY BALLOONS)</td>\n",
       "    </tr>\n",
       "    <tr>\n",
       "      <th>3</th>\n",
       "      <td>0.016667</td>\n",
       "      <td>(12 PENCIL SMALL TUBE WOODLAND)</td>\n",
       "    </tr>\n",
       "    <tr>\n",
       "      <th>4</th>\n",
       "      <td>0.019444</td>\n",
       "      <td>(12 PENCILS SMALL TUBE RED RETROSPOT)</td>\n",
       "    </tr>\n",
       "  </tbody>\n",
       "</table>\n",
       "</div>"
      ],
      "text/plain": [
       "    support                               itemsets\n",
       "0  0.025000                   ( DOLLY GIRL BEAKER)\n",
       "1  0.027778               (10 COLOUR SPACEBOY PEN)\n",
       "2  0.016667           (12 COLOURED PARTY BALLOONS)\n",
       "3  0.016667        (12 PENCIL SMALL TUBE WOODLAND)\n",
       "4  0.019444  (12 PENCILS SMALL TUBE RED RETROSPOT)"
      ]
     },
     "execution_count": 177,
     "metadata": {},
     "output_type": "execute_result"
    }
   ],
   "source": [
    "# En seguida generaremos los canasta de productos frecuentes\n",
    "freq_prods = apriori(productos, min_support=0.01, use_colnames=True)\n",
    "freq_prods.head()"
   ]
  },
  {
   "cell_type": "code",
   "execution_count": 178,
   "id": "28a2c54a-00c3-4b12-8f13-3e4d8a1c98dc",
   "metadata": {},
   "outputs": [],
   "source": [
    "# Aquí se generaran las reglas de asociación\n",
    "rules = association_rules(freq_prods, metric=\"lift\", min_threshold=1)"
   ]
  },
  {
   "cell_type": "code",
   "execution_count": 179,
   "id": "9dff4e39-b7cf-41b6-bd09-a615435e8c63",
   "metadata": {},
   "outputs": [
    {
     "data": {
      "text/html": [
       "<div>\n",
       "<style scoped>\n",
       "    .dataframe tbody tr th:only-of-type {\n",
       "        vertical-align: middle;\n",
       "    }\n",
       "\n",
       "    .dataframe tbody tr th {\n",
       "        vertical-align: top;\n",
       "    }\n",
       "\n",
       "    .dataframe thead th {\n",
       "        text-align: right;\n",
       "    }\n",
       "</style>\n",
       "<table border=\"1\" class=\"dataframe\">\n",
       "  <thead>\n",
       "    <tr style=\"text-align: right;\">\n",
       "      <th></th>\n",
       "      <th>antecedents</th>\n",
       "      <th>consequents</th>\n",
       "      <th>antecedent support</th>\n",
       "      <th>consequent support</th>\n",
       "      <th>support</th>\n",
       "      <th>confidence</th>\n",
       "      <th>lift</th>\n",
       "      <th>leverage</th>\n",
       "      <th>conviction</th>\n",
       "    </tr>\n",
       "  </thead>\n",
       "  <tbody>\n",
       "    <tr>\n",
       "      <th>258959</th>\n",
       "      <td>(PLASTERS IN TIN SPACEBOY, LUNCH BOX I LOVE LO...</td>\n",
       "      <td>(MAGNETS PACK OF 4 SWALLOWS, TREASURE TIN GYMK...</td>\n",
       "      <td>0.011111</td>\n",
       "      <td>0.011111</td>\n",
       "      <td>0.011111</td>\n",
       "      <td>1.0</td>\n",
       "      <td>90.0</td>\n",
       "      <td>0.010988</td>\n",
       "      <td>inf</td>\n",
       "    </tr>\n",
       "    <tr>\n",
       "      <th>412341</th>\n",
       "      <td>(PLASTERS IN TIN CIRCUS PARADE , PLASTERS IN T...</td>\n",
       "      <td>(BUNDLE OF 3 ALPHABET EXERCISE BOOKS, ROUND SN...</td>\n",
       "      <td>0.011111</td>\n",
       "      <td>0.011111</td>\n",
       "      <td>0.011111</td>\n",
       "      <td>1.0</td>\n",
       "      <td>90.0</td>\n",
       "      <td>0.010988</td>\n",
       "      <td>inf</td>\n",
       "    </tr>\n",
       "    <tr>\n",
       "      <th>348457</th>\n",
       "      <td>(LUNCH BOX I LOVE LONDON, ALARM CLOCK BAKELIKE...</td>\n",
       "      <td>(ROUND SNACK BOXES SET OF4 WOODLAND , DOLLY GI...</td>\n",
       "      <td>0.011111</td>\n",
       "      <td>0.011111</td>\n",
       "      <td>0.011111</td>\n",
       "      <td>1.0</td>\n",
       "      <td>90.0</td>\n",
       "      <td>0.010988</td>\n",
       "      <td>inf</td>\n",
       "    </tr>\n",
       "    <tr>\n",
       "      <th>348456</th>\n",
       "      <td>(LUNCH BOX I LOVE LONDON, LUNCH BAG APPLE DESI...</td>\n",
       "      <td>(ROUND SNACK BOXES SET OF4 WOODLAND , DOLLY GI...</td>\n",
       "      <td>0.011111</td>\n",
       "      <td>0.011111</td>\n",
       "      <td>0.011111</td>\n",
       "      <td>1.0</td>\n",
       "      <td>90.0</td>\n",
       "      <td>0.010988</td>\n",
       "      <td>inf</td>\n",
       "    </tr>\n",
       "    <tr>\n",
       "      <th>348455</th>\n",
       "      <td>(LUNCH BOX I LOVE LONDON, ALARM CLOCK BAKELIKE...</td>\n",
       "      <td>(ROUND SNACK BOXES SET OF4 WOODLAND , DOLLY GI...</td>\n",
       "      <td>0.011111</td>\n",
       "      <td>0.011111</td>\n",
       "      <td>0.011111</td>\n",
       "      <td>1.0</td>\n",
       "      <td>90.0</td>\n",
       "      <td>0.010988</td>\n",
       "      <td>inf</td>\n",
       "    </tr>\n",
       "  </tbody>\n",
       "</table>\n",
       "</div>"
      ],
      "text/plain": [
       "                                              antecedents  \\\n",
       "258959  (PLASTERS IN TIN SPACEBOY, LUNCH BOX I LOVE LO...   \n",
       "412341  (PLASTERS IN TIN CIRCUS PARADE , PLASTERS IN T...   \n",
       "348457  (LUNCH BOX I LOVE LONDON, ALARM CLOCK BAKELIKE...   \n",
       "348456  (LUNCH BOX I LOVE LONDON, LUNCH BAG APPLE DESI...   \n",
       "348455  (LUNCH BOX I LOVE LONDON, ALARM CLOCK BAKELIKE...   \n",
       "\n",
       "                                              consequents  antecedent support  \\\n",
       "258959  (MAGNETS PACK OF 4 SWALLOWS, TREASURE TIN GYMK...            0.011111   \n",
       "412341  (BUNDLE OF 3 ALPHABET EXERCISE BOOKS, ROUND SN...            0.011111   \n",
       "348457  (ROUND SNACK BOXES SET OF4 WOODLAND , DOLLY GI...            0.011111   \n",
       "348456  (ROUND SNACK BOXES SET OF4 WOODLAND , DOLLY GI...            0.011111   \n",
       "348455  (ROUND SNACK BOXES SET OF4 WOODLAND , DOLLY GI...            0.011111   \n",
       "\n",
       "        consequent support   support  confidence  lift  leverage  conviction  \n",
       "258959            0.011111  0.011111         1.0  90.0  0.010988         inf  \n",
       "412341            0.011111  0.011111         1.0  90.0  0.010988         inf  \n",
       "348457            0.011111  0.011111         1.0  90.0  0.010988         inf  \n",
       "348456            0.011111  0.011111         1.0  90.0  0.010988         inf  \n",
       "348455            0.011111  0.011111         1.0  90.0  0.010988         inf  "
      ]
     },
     "execution_count": 179,
     "metadata": {},
     "output_type": "execute_result"
    }
   ],
   "source": [
    "# Visualizar las reglas de asociación ordenadas por la medida de lift\n",
    "rules.sort_values('lift', ascending=False).head()"
   ]
  },
  {
   "cell_type": "markdown",
   "id": "8445ad2d-ecc2-4d04-bf88-43aaa50f9072",
   "metadata": {},
   "source": [
    "## Proporcionando la recomendación"
   ]
  },
  {
   "cell_type": "markdown",
   "id": "4a05ca8f-de64-4f52-b0ab-9cb7869bae27",
   "metadata": {},
   "source": [
    "- En esta sección, nos enfocaremos en recomendar un producto basándonos en el producto que usted haya adquirido."
   ]
  },
  {
   "cell_type": "code",
   "execution_count": 200,
   "id": "fb60ef0a-6df3-47a9-95d6-017a5906f48b",
   "metadata": {},
   "outputs": [],
   "source": [
    "# Función que nos entregue los items con relación al producto adquirido.\n",
    "def recom (dataframe, description, support_val=0.01, num_de_productos=3):\n",
    "    recomendacion= []\n",
    "    \n",
    "    for idx, producto in enumerate(rules[\"antecedents\"]):\n",
    "        for j in list(producto):\n",
    "            if j == description:\n",
    "                recomendacion.append(list(rules.iloc[idx][\"consequents\"])[0])\n",
    "                recomendacion = list(dict.fromkeys(recomendacion))\n",
    "    return(recomendacion[0:num_de_productos])"
   ]
  },
  {
   "cell_type": "code",
   "execution_count": 197,
   "id": "e0e0dd68-8e1a-4a02-8b6a-1b9ba7c2591e",
   "metadata": {},
   "outputs": [
    {
     "data": {
      "text/html": [
       "<div>\n",
       "<style scoped>\n",
       "    .dataframe tbody tr th:only-of-type {\n",
       "        vertical-align: middle;\n",
       "    }\n",
       "\n",
       "    .dataframe tbody tr th {\n",
       "        vertical-align: top;\n",
       "    }\n",
       "\n",
       "    .dataframe thead th {\n",
       "        text-align: right;\n",
       "    }\n",
       "</style>\n",
       "<table border=\"1\" class=\"dataframe\">\n",
       "  <thead>\n",
       "    <tr style=\"text-align: right;\">\n",
       "      <th></th>\n",
       "      <th>Description</th>\n",
       "    </tr>\n",
       "  </thead>\n",
       "  <tbody>\n",
       "    <tr>\n",
       "      <th>475980</th>\n",
       "      <td>RECYCLING BAG RETROSPOT</td>\n",
       "    </tr>\n",
       "    <tr>\n",
       "      <th>368468</th>\n",
       "      <td>HAIRCLIPS FORTIES FABRIC ASSORTED</td>\n",
       "    </tr>\n",
       "    <tr>\n",
       "      <th>180540</th>\n",
       "      <td>LUNCH BAG RED RETROSPOT</td>\n",
       "    </tr>\n",
       "    <tr>\n",
       "      <th>32253</th>\n",
       "      <td>FUNKY WASHING UP GLOVES ASSORTED</td>\n",
       "    </tr>\n",
       "    <tr>\n",
       "      <th>185811</th>\n",
       "      <td>ENCHANTED BIRD COATHANGER 5 HOOK</td>\n",
       "    </tr>\n",
       "  </tbody>\n",
       "</table>\n",
       "</div>"
      ],
      "text/plain": [
       "                              Description\n",
       "475980           RECYCLING BAG RETROSPOT \n",
       "368468  HAIRCLIPS FORTIES FABRIC ASSORTED\n",
       "180540            LUNCH BAG RED RETROSPOT\n",
       "32253    FUNKY WASHING UP GLOVES ASSORTED\n",
       "185811   ENCHANTED BIRD COATHANGER 5 HOOK"
      ]
     },
     "execution_count": 197,
     "metadata": {},
     "output_type": "execute_result"
    }
   ],
   "source": [
    "pd.DataFrame(df_france['Description'].sample(5))"
   ]
  },
  {
   "cell_type": "code",
   "execution_count": 203,
   "id": "8bb9c2e1-c14b-4a86-93f6-3371682ab741",
   "metadata": {},
   "outputs": [
    {
     "name": "stdout",
     "output_type": "stream",
     "text": [
      "Productos sugeridos en función del Artículo comprado ['PLASTERS IN TIN CIRCUS PARADE ', \"POPPY'S PLAYHOUSE KITCHEN\", 'RETROSPOT TEA SET CERAMIC 11 PC ']\n",
      "Productos sugeridos en función del Artículo comprado ['RED RETROSPOT BUTTER DISH', 'RED RETROSPOT SMALL MILK JUG', 'RED RETROSPOT SUGAR JAM BOWL']\n",
      "Productos sugeridos en función del Artículo comprado ['ALARM CLOCK BAKELIKE CHOCOLATE', 'ALARM CLOCK BAKELIKE GREEN', 'ALARM CLOCK BAKELIKE IVORY']\n"
     ]
    }
   ],
   "source": [
    "# Se ejecuta la función y lo alimentamos con un StockCode para que nos arroje los productos relacionados a el\n",
    "John = recom(df_france,'SET OF 20 KIDS COOKIE CUTTERS')\n",
    "Mary = recom(df_france, 'RETROSPOT LARGE MILK JUG')\n",
    "Cam = recom(df_france, 'ALARM CLOCK BAKELIKE PINK')\n",
    "\n",
    "print(f'Productos sugeridos en función del Artículo comprado {John}')\n",
    "print(f'Productos sugeridos en función del Artículo comprado {Mary}')\n",
    "print(f'Productos sugeridos en función del Artículo comprado {Cam}')"
   ]
  },
  {
   "cell_type": "code",
   "execution_count": null,
   "id": "98a8631d-3a33-4fa8-b01f-9a0eaa368820",
   "metadata": {},
   "outputs": [],
   "source": []
  },
  {
   "cell_type": "code",
   "execution_count": null,
   "id": "c04cc03f-37ee-4a5e-ad61-e6c49a818179",
   "metadata": {},
   "outputs": [],
   "source": []
  },
  {
   "cell_type": "code",
   "execution_count": 204,
   "id": "d34598d5-2872-4def-97b6-d1c848010647",
   "metadata": {},
   "outputs": [],
   "source": [
    "def recom(dataframe, description, support_val=0.01, num_de_productos=3):\n",
    "    recomendacion = []\n",
    "\n",
    "    for idx, producto in enumerate(rules[\"antecedents\"]):\n",
    "        for j in list(producto):\n",
    "            if j == description:\n",
    "                recomendacion.append(list(rules.iloc[idx][\"consequents\"])[0])\n",
    "                recomendacion = list(dict.fromkeys(recomendacion))\n",
    "\n",
    "    print(f\"Productos sugeridos en función del artículo comprado '{description}':\")\n",
    "    for i, producto in enumerate(recomendacion[0:num_de_productos]):\n",
    "        print(f\"{i+1}. {producto}\")\n"
   ]
  },
  {
   "cell_type": "code",
   "execution_count": 207,
   "id": "dc18b95f-01e2-430f-ac30-acacf2289595",
   "metadata": {},
   "outputs": [
    {
     "name": "stdout",
     "output_type": "stream",
     "text": [
      "Productos sugeridos en función del artículo comprado 'SET OF 20 KIDS COOKIE CUTTERS':\n",
      "1. PLASTERS IN TIN CIRCUS PARADE \n",
      "2. POPPY'S PLAYHOUSE KITCHEN\n",
      "3. RETROSPOT TEA SET CERAMIC 11 PC \n",
      "\n",
      "Productos sugeridos en función del artículo comprado 'RETROSPOT LARGE MILK JUG':\n",
      "1. RED RETROSPOT BUTTER DISH\n",
      "2. RED RETROSPOT SMALL MILK JUG\n",
      "3. RED RETROSPOT SUGAR JAM BOWL\n",
      "\n",
      "Productos sugeridos en función del artículo comprado 'ALARM CLOCK BAKELIKE PINK':\n",
      "1. ALARM CLOCK BAKELIKE CHOCOLATE\n",
      "2. ALARM CLOCK BAKELIKE GREEN\n",
      "3. ALARM CLOCK BAKELIKE IVORY\n"
     ]
    }
   ],
   "source": [
    "recom(df_france, 'SET OF 20 KIDS COOKIE CUTTERS')\n",
    "print(\"\")\n",
    "recom(df_france, 'RETROSPOT LARGE MILK JUG')\n",
    "print(\"\")\n",
    "recom(df_france, 'ALARM CLOCK BAKELIKE PINK')"
   ]
  },
  {
   "cell_type": "code",
   "execution_count": 208,
   "id": "0c5af547-576b-48e4-9c62-8f5432d4ed78",
   "metadata": {},
   "outputs": [],
   "source": [
    "def recom(dataframe, support_val=0.01, num_de_productos=3):\n",
    "    descripcion = input(\"Ingrese el nombre del producto: \")\n",
    "    recomendacion = []\n",
    "\n",
    "    for idx, producto in enumerate(rules[\"antecedents\"]):\n",
    "        for j in list(producto):\n",
    "            if j == descripcion:\n",
    "                recomendacion.append(list(rules.iloc[idx][\"consequents\"])[0])\n",
    "                recomendacion = list(dict.fromkeys(recomendacion))\n",
    "\n",
    "    print(f\"Productos sugeridos en función del artículo comprado '{descripcion}':\")\n",
    "    for i, producto in enumerate(recomendacion[0:num_de_productos]):\n",
    "        print(f\"{i+1}. {producto}\")"
   ]
  },
  {
   "cell_type": "markdown",
   "id": "c929f3b5-4a8c-4b1e-8040-33067755c700",
   "metadata": {},
   "source": [
    "- SET OF 20 KIDS COOKIE CUTTERS\n",
    "- RETROSPOT LARGE MILK JUG\n",
    "- ALARM CLOCK BAKELIKE PINK"
   ]
  },
  {
   "cell_type": "code",
   "execution_count": 232,
   "id": "24a1f338-9cff-4276-a2f9-acce5dd9069d",
   "metadata": {},
   "outputs": [
    {
     "name": "stdin",
     "output_type": "stream",
     "text": [
      "Ingrese el nombre del producto:  ALARM CLOCK BAKELIKE PINK\n"
     ]
    },
    {
     "name": "stdout",
     "output_type": "stream",
     "text": [
      "Productos sugeridos en función del artículo comprado 'ALARM CLOCK BAKELIKE PINK':\n",
      "1. ALARM CLOCK BAKELIKE CHOCOLATE\n",
      "2. ALARM CLOCK BAKELIKE GREEN\n",
      "3. ALARM CLOCK BAKELIKE IVORY\n"
     ]
    }
   ],
   "source": [
    "recom(df_france)"
   ]
  }
 ],
 "metadata": {
  "kernelspec": {
   "display_name": "Python 3 (ipykernel)",
   "language": "python",
   "name": "python3"
  },
  "language_info": {
   "codemirror_mode": {
    "name": "ipython",
    "version": 3
   },
   "file_extension": ".py",
   "mimetype": "text/x-python",
   "name": "python",
   "nbconvert_exporter": "python",
   "pygments_lexer": "ipython3",
   "version": "3.9.13"
  }
 },
 "nbformat": 4,
 "nbformat_minor": 5
}
