{
 "cells": [
  {
   "cell_type": "markdown",
   "id": "7e2bfc38-dae0-401b-ad27-3abc772ab853",
   "metadata": {},
   "source": [
    "## IMPORTAR BIBLIOTECAS"
   ]
  },
  {
   "cell_type": "code",
   "execution_count": 35,
   "id": "4cd49be0-5c3b-4662-96dd-d1de32b53512",
   "metadata": {},
   "outputs": [],
   "source": [
    "import pandas as pd\n",
    "import numpy as np\n",
    "import matplotlib.pyplot as plt\n",
    "import seaborn as sns\n",
    "import warnings\n",
    "warnings.filterwarnings(\"ignore\")\n",
    "warnings.simplefilter(action='ignore', category=FutureWarning)\n",
    "warnings.simplefilter(action='ignore', category=DeprecationWarning)"
   ]
  },
  {
   "cell_type": "markdown",
   "id": "76e42b50-bda2-4ba7-83a7-49688d16e932",
   "metadata": {},
   "source": [
    "## CARGAR DATA"
   ]
  },
  {
   "cell_type": "code",
   "execution_count": 13,
   "id": "634f5642-9e65-4fe0-bb20-7024e01ac097",
   "metadata": {},
   "outputs": [],
   "source": [
    "df=pd.read_csv('/Users/andrezaragozabonilla/Desktop/E-commerce/data.csv',encoding= 'unicode_escape')"
   ]
  },
  {
   "cell_type": "code",
   "execution_count": 14,
   "id": "426906dc-a4b3-4005-976e-ec6fe9759bec",
   "metadata": {},
   "outputs": [
    {
     "data": {
      "text/html": [
       "<div>\n",
       "<style scoped>\n",
       "    .dataframe tbody tr th:only-of-type {\n",
       "        vertical-align: middle;\n",
       "    }\n",
       "\n",
       "    .dataframe tbody tr th {\n",
       "        vertical-align: top;\n",
       "    }\n",
       "\n",
       "    .dataframe thead th {\n",
       "        text-align: right;\n",
       "    }\n",
       "</style>\n",
       "<table border=\"1\" class=\"dataframe\">\n",
       "  <thead>\n",
       "    <tr style=\"text-align: right;\">\n",
       "      <th></th>\n",
       "      <th>InvoiceNo</th>\n",
       "      <th>StockCode</th>\n",
       "      <th>Description</th>\n",
       "      <th>Quantity</th>\n",
       "      <th>InvoiceDate</th>\n",
       "      <th>UnitPrice</th>\n",
       "      <th>CustomerID</th>\n",
       "      <th>Country</th>\n",
       "    </tr>\n",
       "  </thead>\n",
       "  <tbody>\n",
       "    <tr>\n",
       "      <th>0</th>\n",
       "      <td>536365</td>\n",
       "      <td>85123A</td>\n",
       "      <td>WHITE HANGING HEART T-LIGHT HOLDER</td>\n",
       "      <td>6</td>\n",
       "      <td>12/1/2010 8:26</td>\n",
       "      <td>2.55</td>\n",
       "      <td>17850.0</td>\n",
       "      <td>United Kingdom</td>\n",
       "    </tr>\n",
       "    <tr>\n",
       "      <th>1</th>\n",
       "      <td>536365</td>\n",
       "      <td>71053</td>\n",
       "      <td>WHITE METAL LANTERN</td>\n",
       "      <td>6</td>\n",
       "      <td>12/1/2010 8:26</td>\n",
       "      <td>3.39</td>\n",
       "      <td>17850.0</td>\n",
       "      <td>United Kingdom</td>\n",
       "    </tr>\n",
       "    <tr>\n",
       "      <th>2</th>\n",
       "      <td>536365</td>\n",
       "      <td>84406B</td>\n",
       "      <td>CREAM CUPID HEARTS COAT HANGER</td>\n",
       "      <td>8</td>\n",
       "      <td>12/1/2010 8:26</td>\n",
       "      <td>2.75</td>\n",
       "      <td>17850.0</td>\n",
       "      <td>United Kingdom</td>\n",
       "    </tr>\n",
       "    <tr>\n",
       "      <th>3</th>\n",
       "      <td>536365</td>\n",
       "      <td>84029G</td>\n",
       "      <td>KNITTED UNION FLAG HOT WATER BOTTLE</td>\n",
       "      <td>6</td>\n",
       "      <td>12/1/2010 8:26</td>\n",
       "      <td>3.39</td>\n",
       "      <td>17850.0</td>\n",
       "      <td>United Kingdom</td>\n",
       "    </tr>\n",
       "    <tr>\n",
       "      <th>4</th>\n",
       "      <td>536365</td>\n",
       "      <td>84029E</td>\n",
       "      <td>RED WOOLLY HOTTIE WHITE HEART.</td>\n",
       "      <td>6</td>\n",
       "      <td>12/1/2010 8:26</td>\n",
       "      <td>3.39</td>\n",
       "      <td>17850.0</td>\n",
       "      <td>United Kingdom</td>\n",
       "    </tr>\n",
       "  </tbody>\n",
       "</table>\n",
       "</div>"
      ],
      "text/plain": [
       "  InvoiceNo StockCode                          Description  Quantity  \\\n",
       "0    536365    85123A   WHITE HANGING HEART T-LIGHT HOLDER         6   \n",
       "1    536365     71053                  WHITE METAL LANTERN         6   \n",
       "2    536365    84406B       CREAM CUPID HEARTS COAT HANGER         8   \n",
       "3    536365    84029G  KNITTED UNION FLAG HOT WATER BOTTLE         6   \n",
       "4    536365    84029E       RED WOOLLY HOTTIE WHITE HEART.         6   \n",
       "\n",
       "      InvoiceDate  UnitPrice  CustomerID         Country  \n",
       "0  12/1/2010 8:26       2.55     17850.0  United Kingdom  \n",
       "1  12/1/2010 8:26       3.39     17850.0  United Kingdom  \n",
       "2  12/1/2010 8:26       2.75     17850.0  United Kingdom  \n",
       "3  12/1/2010 8:26       3.39     17850.0  United Kingdom  \n",
       "4  12/1/2010 8:26       3.39     17850.0  United Kingdom  "
      ]
     },
     "execution_count": 14,
     "metadata": {},
     "output_type": "execute_result"
    }
   ],
   "source": [
    "df.head()"
   ]
  },
  {
   "cell_type": "markdown",
   "id": "d78e5c54-a6fa-468f-ba92-0d264d6642b6",
   "metadata": {},
   "source": [
    "## Conociendo la DATA"
   ]
  },
  {
   "cell_type": "code",
   "execution_count": 15,
   "id": "4f16f77e-3644-41db-94c3-5ce61b95df08",
   "metadata": {},
   "outputs": [
    {
     "data": {
      "text/plain": [
       "(541909, 8)"
      ]
     },
     "execution_count": 15,
     "metadata": {},
     "output_type": "execute_result"
    }
   ],
   "source": [
    "# Dimensiones del DataFrame\n",
    "df.shape"
   ]
  },
  {
   "cell_type": "code",
   "execution_count": 16,
   "id": "5998a4e9-99f0-4f2c-803d-e2180cca4821",
   "metadata": {},
   "outputs": [
    {
     "name": "stdout",
     "output_type": "stream",
     "text": [
      "<class 'pandas.core.frame.DataFrame'>\n",
      "RangeIndex: 541909 entries, 0 to 541908\n",
      "Data columns (total 8 columns):\n",
      " #   Column       Non-Null Count   Dtype  \n",
      "---  ------       --------------   -----  \n",
      " 0   InvoiceNo    541909 non-null  object \n",
      " 1   StockCode    541909 non-null  object \n",
      " 2   Description  540455 non-null  object \n",
      " 3   Quantity     541909 non-null  int64  \n",
      " 4   InvoiceDate  541909 non-null  object \n",
      " 5   UnitPrice    541909 non-null  float64\n",
      " 6   CustomerID   406829 non-null  float64\n",
      " 7   Country      541909 non-null  object \n",
      "dtypes: float64(2), int64(1), object(5)\n",
      "memory usage: 33.1+ MB\n"
     ]
    }
   ],
   "source": [
    "df.info()"
   ]
  },
  {
   "cell_type": "code",
   "execution_count": 17,
   "id": "ed1fa8ca-c252-493c-81f4-e5a52f2ec760",
   "metadata": {},
   "outputs": [
    {
     "data": {
      "text/html": [
       "<div>\n",
       "<style scoped>\n",
       "    .dataframe tbody tr th:only-of-type {\n",
       "        vertical-align: middle;\n",
       "    }\n",
       "\n",
       "    .dataframe tbody tr th {\n",
       "        vertical-align: top;\n",
       "    }\n",
       "\n",
       "    .dataframe thead th {\n",
       "        text-align: right;\n",
       "    }\n",
       "</style>\n",
       "<table border=\"1\" class=\"dataframe\">\n",
       "  <thead>\n",
       "    <tr style=\"text-align: right;\">\n",
       "      <th></th>\n",
       "      <th>Quantity</th>\n",
       "      <th>UnitPrice</th>\n",
       "      <th>CustomerID</th>\n",
       "    </tr>\n",
       "  </thead>\n",
       "  <tbody>\n",
       "    <tr>\n",
       "      <th>count</th>\n",
       "      <td>541909.000000</td>\n",
       "      <td>541909.000000</td>\n",
       "      <td>406829.000000</td>\n",
       "    </tr>\n",
       "    <tr>\n",
       "      <th>mean</th>\n",
       "      <td>9.552250</td>\n",
       "      <td>4.611114</td>\n",
       "      <td>15287.690570</td>\n",
       "    </tr>\n",
       "    <tr>\n",
       "      <th>std</th>\n",
       "      <td>218.081158</td>\n",
       "      <td>96.759853</td>\n",
       "      <td>1713.600303</td>\n",
       "    </tr>\n",
       "    <tr>\n",
       "      <th>min</th>\n",
       "      <td>-80995.000000</td>\n",
       "      <td>-11062.060000</td>\n",
       "      <td>12346.000000</td>\n",
       "    </tr>\n",
       "    <tr>\n",
       "      <th>25%</th>\n",
       "      <td>1.000000</td>\n",
       "      <td>1.250000</td>\n",
       "      <td>13953.000000</td>\n",
       "    </tr>\n",
       "    <tr>\n",
       "      <th>50%</th>\n",
       "      <td>3.000000</td>\n",
       "      <td>2.080000</td>\n",
       "      <td>15152.000000</td>\n",
       "    </tr>\n",
       "    <tr>\n",
       "      <th>75%</th>\n",
       "      <td>10.000000</td>\n",
       "      <td>4.130000</td>\n",
       "      <td>16791.000000</td>\n",
       "    </tr>\n",
       "    <tr>\n",
       "      <th>max</th>\n",
       "      <td>80995.000000</td>\n",
       "      <td>38970.000000</td>\n",
       "      <td>18287.000000</td>\n",
       "    </tr>\n",
       "  </tbody>\n",
       "</table>\n",
       "</div>"
      ],
      "text/plain": [
       "            Quantity      UnitPrice     CustomerID\n",
       "count  541909.000000  541909.000000  406829.000000\n",
       "mean        9.552250       4.611114   15287.690570\n",
       "std       218.081158      96.759853    1713.600303\n",
       "min    -80995.000000  -11062.060000   12346.000000\n",
       "25%         1.000000       1.250000   13953.000000\n",
       "50%         3.000000       2.080000   15152.000000\n",
       "75%        10.000000       4.130000   16791.000000\n",
       "max     80995.000000   38970.000000   18287.000000"
      ]
     },
     "execution_count": 17,
     "metadata": {},
     "output_type": "execute_result"
    }
   ],
   "source": [
    "df.describe()"
   ]
  },
  {
   "cell_type": "code",
   "execution_count": 18,
   "id": "c1add2e4-efa0-4f0b-aed8-24d1535d24c5",
   "metadata": {},
   "outputs": [],
   "source": [
    "# Convertir la varaible InvoiceDate de tipo \"objecto\" a \"datatime\"\n",
    "df['InvoiceDate'] = pd.to_datetime(df['InvoiceDate'])"
   ]
  },
  {
   "cell_type": "code",
   "execution_count": 20,
   "id": "4b4eba17-5246-475a-8828-c0e94a8143b3",
   "metadata": {},
   "outputs": [
    {
     "data": {
      "text/plain": [
       "InvoiceNo              object\n",
       "StockCode              object\n",
       "Description            object\n",
       "Quantity                int64\n",
       "InvoiceDate    datetime64[ns]\n",
       "UnitPrice             float64\n",
       "CustomerID            float64\n",
       "Country                object\n",
       "dtype: object"
      ]
     },
     "execution_count": 20,
     "metadata": {},
     "output_type": "execute_result"
    }
   ],
   "source": [
    "# Verificar que se realizó el cambio\n",
    "df.dtypes"
   ]
  },
  {
   "cell_type": "markdown",
   "id": "78a207ff-b66b-4d5f-a027-c99fd295e40c",
   "metadata": {},
   "source": [
    "## Análisis de características"
   ]
  },
  {
   "cell_type": "markdown",
   "id": "0a5fedcd-a589-4454-8ed4-a3ec31eee988",
   "metadata": {},
   "source": [
    "- **Dividir categoricas y númericas**"
   ]
  },
  {
   "cell_type": "code",
   "execution_count": 27,
   "id": "b0f0cee2-9f0c-4ec8-85da-e21113311f44",
   "metadata": {},
   "outputs": [
    {
     "data": {
      "text/html": [
       "<div>\n",
       "<style scoped>\n",
       "    .dataframe tbody tr th:only-of-type {\n",
       "        vertical-align: middle;\n",
       "    }\n",
       "\n",
       "    .dataframe tbody tr th {\n",
       "        vertical-align: top;\n",
       "    }\n",
       "\n",
       "    .dataframe thead th {\n",
       "        text-align: right;\n",
       "    }\n",
       "</style>\n",
       "<table border=\"1\" class=\"dataframe\">\n",
       "  <thead>\n",
       "    <tr style=\"text-align: right;\">\n",
       "      <th></th>\n",
       "      <th>InvoiceNo</th>\n",
       "      <th>StockCode</th>\n",
       "      <th>Description</th>\n",
       "      <th>Country</th>\n",
       "    </tr>\n",
       "  </thead>\n",
       "  <tbody>\n",
       "    <tr>\n",
       "      <th>0</th>\n",
       "      <td>536365</td>\n",
       "      <td>85123A</td>\n",
       "      <td>WHITE HANGING HEART T-LIGHT HOLDER</td>\n",
       "      <td>United Kingdom</td>\n",
       "    </tr>\n",
       "    <tr>\n",
       "      <th>1</th>\n",
       "      <td>536365</td>\n",
       "      <td>71053</td>\n",
       "      <td>WHITE METAL LANTERN</td>\n",
       "      <td>United Kingdom</td>\n",
       "    </tr>\n",
       "    <tr>\n",
       "      <th>2</th>\n",
       "      <td>536365</td>\n",
       "      <td>84406B</td>\n",
       "      <td>CREAM CUPID HEARTS COAT HANGER</td>\n",
       "      <td>United Kingdom</td>\n",
       "    </tr>\n",
       "    <tr>\n",
       "      <th>3</th>\n",
       "      <td>536365</td>\n",
       "      <td>84029G</td>\n",
       "      <td>KNITTED UNION FLAG HOT WATER BOTTLE</td>\n",
       "      <td>United Kingdom</td>\n",
       "    </tr>\n",
       "    <tr>\n",
       "      <th>4</th>\n",
       "      <td>536365</td>\n",
       "      <td>84029E</td>\n",
       "      <td>RED WOOLLY HOTTIE WHITE HEART.</td>\n",
       "      <td>United Kingdom</td>\n",
       "    </tr>\n",
       "  </tbody>\n",
       "</table>\n",
       "</div>"
      ],
      "text/plain": [
       "  InvoiceNo StockCode                          Description         Country\n",
       "0    536365    85123A   WHITE HANGING HEART T-LIGHT HOLDER  United Kingdom\n",
       "1    536365     71053                  WHITE METAL LANTERN  United Kingdom\n",
       "2    536365    84406B       CREAM CUPID HEARTS COAT HANGER  United Kingdom\n",
       "3    536365    84029G  KNITTED UNION FLAG HOT WATER BOTTLE  United Kingdom\n",
       "4    536365    84029E       RED WOOLLY HOTTIE WHITE HEART.  United Kingdom"
      ]
     },
     "execution_count": 27,
     "metadata": {},
     "output_type": "execute_result"
    }
   ],
   "source": [
    "# Variables Categóricas\n",
    "cat_var = df.select_dtypes(include=['object'])\n",
    "cat_var.head()"
   ]
  },
  {
   "cell_type": "code",
   "execution_count": 28,
   "id": "86c6a89b-da0c-40c1-8061-42585447c423",
   "metadata": {},
   "outputs": [
    {
     "data": {
      "text/html": [
       "<div>\n",
       "<style scoped>\n",
       "    .dataframe tbody tr th:only-of-type {\n",
       "        vertical-align: middle;\n",
       "    }\n",
       "\n",
       "    .dataframe tbody tr th {\n",
       "        vertical-align: top;\n",
       "    }\n",
       "\n",
       "    .dataframe thead th {\n",
       "        text-align: right;\n",
       "    }\n",
       "</style>\n",
       "<table border=\"1\" class=\"dataframe\">\n",
       "  <thead>\n",
       "    <tr style=\"text-align: right;\">\n",
       "      <th></th>\n",
       "      <th>Quantity</th>\n",
       "      <th>InvoiceDate</th>\n",
       "      <th>UnitPrice</th>\n",
       "      <th>CustomerID</th>\n",
       "    </tr>\n",
       "  </thead>\n",
       "  <tbody>\n",
       "    <tr>\n",
       "      <th>0</th>\n",
       "      <td>6</td>\n",
       "      <td>2010-12-01 08:26:00</td>\n",
       "      <td>2.55</td>\n",
       "      <td>17850.0</td>\n",
       "    </tr>\n",
       "    <tr>\n",
       "      <th>1</th>\n",
       "      <td>6</td>\n",
       "      <td>2010-12-01 08:26:00</td>\n",
       "      <td>3.39</td>\n",
       "      <td>17850.0</td>\n",
       "    </tr>\n",
       "    <tr>\n",
       "      <th>2</th>\n",
       "      <td>8</td>\n",
       "      <td>2010-12-01 08:26:00</td>\n",
       "      <td>2.75</td>\n",
       "      <td>17850.0</td>\n",
       "    </tr>\n",
       "    <tr>\n",
       "      <th>3</th>\n",
       "      <td>6</td>\n",
       "      <td>2010-12-01 08:26:00</td>\n",
       "      <td>3.39</td>\n",
       "      <td>17850.0</td>\n",
       "    </tr>\n",
       "    <tr>\n",
       "      <th>4</th>\n",
       "      <td>6</td>\n",
       "      <td>2010-12-01 08:26:00</td>\n",
       "      <td>3.39</td>\n",
       "      <td>17850.0</td>\n",
       "    </tr>\n",
       "  </tbody>\n",
       "</table>\n",
       "</div>"
      ],
      "text/plain": [
       "   Quantity         InvoiceDate  UnitPrice  CustomerID\n",
       "0         6 2010-12-01 08:26:00       2.55     17850.0\n",
       "1         6 2010-12-01 08:26:00       3.39     17850.0\n",
       "2         8 2010-12-01 08:26:00       2.75     17850.0\n",
       "3         6 2010-12-01 08:26:00       3.39     17850.0\n",
       "4         6 2010-12-01 08:26:00       3.39     17850.0"
      ]
     },
     "execution_count": 28,
     "metadata": {},
     "output_type": "execute_result"
    }
   ],
   "source": [
    "# Variables Númericas\n",
    "num_var = df.select_dtypes(include=['int64', 'float64','datetime64[ns]'])\n",
    "num_var.head()"
   ]
  },
  {
   "cell_type": "markdown",
   "id": "80e3e315-8062-480e-8206-bf5b24475c55",
   "metadata": {},
   "source": [
    "## Manejo de Variables"
   ]
  },
  {
   "cell_type": "code",
   "execution_count": 29,
   "id": "37044dfa-3acb-4f30-bcba-b4166f4b3ed9",
   "metadata": {},
   "outputs": [],
   "source": [
    "# Se creara una copia de la data original\n",
    "df_copy=df.copy()"
   ]
  },
  {
   "cell_type": "code",
   "execution_count": 31,
   "id": "e18074ff-45ef-4b9d-aedd-f31386e47cdc",
   "metadata": {},
   "outputs": [
    {
     "data": {
      "text/plain": [
       "InvoiceNo           0\n",
       "StockCode           0\n",
       "Description      1454\n",
       "Quantity            0\n",
       "InvoiceDate         0\n",
       "UnitPrice           0\n",
       "CustomerID     135080\n",
       "Country             0\n",
       "dtype: int64"
      ]
     },
     "execution_count": 31,
     "metadata": {},
     "output_type": "execute_result"
    }
   ],
   "source": [
    "# Comenzaremos por revisar los nulos\n",
    "df_copy.isnull().sum()"
   ]
  },
  {
   "cell_type": "code",
   "execution_count": 32,
   "id": "21a5692c-2f95-4c81-a1d8-c154b973900b",
   "metadata": {},
   "outputs": [],
   "source": [
    "# Se decide dropear los nulos porque:\n",
    "# En el caso de Description es una cantidad poco representativa de los datos.\n",
    "# En el caso de CustomerID, es un número único, es por eso que no se puede remplazar con las medias ni con la moda.\n",
    "df_copy.dropna(inplace=True)"
   ]
  },
  {
   "cell_type": "code",
   "execution_count": 33,
   "id": "c85fb7ab-4e39-43c4-98aa-054763ab2311",
   "metadata": {},
   "outputs": [],
   "source": [
    "# Se elimina la columna InvoiceDate ya que no será relevante para el análisis.\n",
    "df_copy=df_copy.drop(['InvoiceDate'], axis=1)"
   ]
  },
  {
   "cell_type": "code",
   "execution_count": 34,
   "id": "0058714a-d49d-43cc-8951-e65ed3533c31",
   "metadata": {},
   "outputs": [
    {
     "data": {
      "text/plain": [
       "(406829, 7)"
      ]
     },
     "execution_count": 34,
     "metadata": {},
     "output_type": "execute_result"
    }
   ],
   "source": [
    "# Volvemos a revisar las dimensiones de nuestro Dataset\n",
    "df_copy.shape"
   ]
  },
  {
   "cell_type": "markdown",
   "id": "5c7c6803-845c-436d-9e64-affc3d95f583",
   "metadata": {},
   "source": [
    "## Exploratory Data Analysis"
   ]
  },
  {
   "cell_type": "code",
   "execution_count": 37,
   "id": "9107b84d-ac16-49f6-8a0f-8297c511dd57",
   "metadata": {},
   "outputs": [],
   "source": [
    "# Empezamos por convertir la variable CustomerId de tipo \"flotante\" a \"entero\"\n",
    "df_copy['CustomerID'] = df_copy['CustomerID'].astype(int)"
   ]
  },
  {
   "cell_type": "markdown",
   "id": "7204f09d-6847-4abb-b5ac-7fb813f4b8cf",
   "metadata": {},
   "source": [
    "### **Top 10 clientes con más compras**"
   ]
  },
  {
   "cell_type": "code",
   "execution_count": 50,
   "id": "52392e33-6592-4c4b-b498-6ac9490f817b",
   "metadata": {},
   "outputs": [
    {
     "data": {
      "image/png": "[encoded data removed]",
      "text/plain": [
       "<Figure size 600x400 with 1 Axes>"
      ]
     },
     "metadata": {},
     "output_type": "display_data"
    }
   ],
   "source": [
    "customer = df_copy['CustomerID'].value_counts().head(10).plot.bar(figsize=(6,4), color='orange')\n",
    "customer.set_xlabel('Cliente')\n",
    "customer.set_ylabel('Número de compras')\n",
    "customer.set_title('Top 10 clientes con más compras')\n",
    "\n",
    "for i in customer.patches:\n",
    "    customer.text(i.get_x()+0.1, i.get_height()+1, str(i.get_height()), fontsize=8)\n"
   ]
  },
  {
   "cell_type": "markdown",
   "id": "fc1a130f-1a20-487f-b745-ff10061996e3",
   "metadata": {},
   "source": [
    "### **Cantidad promedio de compras por cliente**"
   ]
  },
  {
   "cell_type": "code",
   "execution_count": 54,
   "id": "6f1e0b38-24e0-4943-b917-961e332af17d",
   "metadata": {},
   "outputs": [
    {
     "name": "stdout",
     "output_type": "stream",
     "text": [
      "La cantidad promedio de compras por cliente es: 22.39\n"
     ]
    }
   ],
   "source": [
    "# Agrupamos los datos por número de cliente y calcular el promedio de compras por cliente\n",
    "average_purchases = df_copy.groupby(\"CustomerID\")[\"Quantity\"].mean()\n",
    "\n",
    "print(\"La cantidad promedio de compras por cliente es:\", round(average_purchases.mean(),2))"
   ]
  },
  {
   "cell_type": "markdown",
   "id": "68037798-4987-4ddf-8c6a-74ca33e0fd50",
   "metadata": {},
   "source": [
    "### **Ventas por mes** "
   ]
  },
  {
   "cell_type": "code",
   "execution_count": 49,
   "id": "ec09e13f-0618-483f-83cb-1c845e8f4d40",
   "metadata": {},
   "outputs": [
    {
     "data": {
      "image/png": "[encoded data removed]",
      "text/plain": [
       "<Figure size 640x480 with 1 Axes>"
      ]
     },
     "metadata": {},
     "output_type": "display_data"
    }
   ],
   "source": [
    "# Agrupamos las ventas por mes\n",
    "sales_by_month = df.groupby(df['InvoiceDate'].dt.strftime('%Y-%m'))['Quantity'].sum()\n",
    "\n",
    "# Se crea un gráfico de barras\n",
    "ax = sales_by_month.plot(kind='bar', color='orange')\n",
    "\n",
    "# Establecemos las etiquetas de los ejes y el título\n",
    "plt.xlabel('Mes')\n",
    "plt.ylabel('Ventas')\n",
    "plt.title('Ventas por mes')\n",
    "\n",
    "# Agregamos el número exacto de ventas en la parte superior de cada barra\n",
    "for i in ax.containers:\n",
    "    ax.bar_label(i, label_type='edge', fontsize=6, padding=4)\n",
    "\n",
    "plt.show()"
   ]
  },
  {
   "cell_type": "markdown",
   "id": "a741e592-2ecd-4a15-b858-2bc27beab7e3",
   "metadata": {},
   "source": [
    "### **Ventas por día de la semana**"
   ]
  },
  {
   "cell_type": "code",
   "execution_count": 53,
   "id": "cd252733-235c-4569-8cc1-46e86216a603",
   "metadata": {},
   "outputs": [
    {
     "data": {
      "image/png": "[encoded data removed]",
      "text/plain": [
       "<Figure size 640x480 with 1 Axes>"
      ]
     },
     "metadata": {},
     "output_type": "display_data"
    }
   ],
   "source": [
    "# Extraer el día de la semana de la venta\n",
    "df['DayOfWeek'] = df['InvoiceDate'].dt.dayofweek\n",
    "\n",
    "# Asignar el nombre del día de la semana a cada venta\n",
    "day_mapping = {0: 'Lunes', 1: 'Martes', 2: 'Miércoles', 3: 'Jueves', 4: 'Viernes', 5: 'Sábado', 6: 'Domingo'}\n",
    "df['DayOfWeek'] = df['DayOfWeek'].map(day_mapping)\n",
    "\n",
    "# Agrupar las ventas por día de la semana\n",
    "sales_by_day = df.groupby('DayOfWeek')['Quantity'].sum()\n",
    "\n",
    "# Crear un gráfico de barras\n",
    "sales_by_day.plot(kind='bar', color='orange')\n",
    "\n",
    "# Establecer las etiquetas de los ejes y el título\n",
    "plt.xlabel('Día de la semana')\n",
    "plt.ylabel('Ventas')\n",
    "plt.title('Ventas por día de la semana')\n",
    "plt.show()"
   ]
  },
  {
   "cell_type": "markdown",
   "id": "de45e11e-25a5-4080-bffe-3be21e122d6c",
   "metadata": {},
   "source": [
    "### **Ventas por hora del día**"
   ]
  },
  {
   "cell_type": "code",
   "execution_count": 51,
   "id": "f0c572ad-23ae-4c6d-af5a-d15850f33552",
   "metadata": {},
   "outputs": [
    {
     "data": {
      "image/png": "[encoded data removed]",
      "text/plain": [
       "<Figure size 640x480 with 1 Axes>"
      ]
     },
     "metadata": {},
     "output_type": "display_data"
    }
   ],
   "source": [
    "# Extraer la hora de la venta\n",
    "df['Hour'] = df['InvoiceDate'].dt.hour\n",
    "\n",
    "# Agrupar las ventas por hora del día\n",
    "sales_by_hour = df.groupby('Hour')['Quantity'].sum()\n",
    "\n",
    "# Crear un gráfico de barras\n",
    "sales_by_hour.plot(kind='bar', color='orange')\n",
    "\n",
    "# Establecer las etiquetas de los ejes y el título\n",
    "plt.xlabel('Hora del día')\n",
    "plt.ylabel('Ventas')\n",
    "plt.title('Ventas por hora del día')\n",
    "plt.show()"
   ]
  },
  {
   "cell_type": "markdown",
   "id": "269431dc-f9b8-4407-97b7-6b7fbb5b0c77",
   "metadata": {},
   "source": [
    "### **Día y hora con más ventas**"
   ]
  },
  {
   "cell_type": "code",
   "execution_count": 59,
   "id": "80783cd1-d3dd-4fe0-909a-230b86713fa9",
   "metadata": {},
   "outputs": [
    {
     "data": {
      "image/png": "[encoded data removed]",
      "text/plain": [
       "<Figure size 640x480 with 2 Axes>"
      ]
     },
     "metadata": {},
     "output_type": "display_data"
    }
   ],
   "source": [
    "# Crear una tabla pivote de las ventas por día de la semana y hora del día\n",
    "sales_by_day_hour = df.pivot_table(index='DayOfWeek', columns='Hour', values='Quantity', aggfunc='sum')\n",
    "\n",
    "# Crear el heatmap\n",
    "sns.heatmap(sales_by_day_hour, cmap='coolwarm')\n",
    "\n",
    "# Mostrar el heatmap\n",
    "plt.show()"
   ]
  },
  {
   "cell_type": "markdown",
   "id": "564cf54e-3a7e-4518-85fb-df306e2285cd",
   "metadata": {},
   "source": [
    "- **Podemos concluir que las ventas alcanzan su punto máximo los jueves a las 12 del mediodía, según los datos analizados.**"
   ]
  },
  {
   "cell_type": "code",
   "execution_count": null,
   "id": "5644f19a-26d8-40e8-984c-a3202232cadf",
   "metadata": {},
   "outputs": [],
   "source": []
  },
  {
   "cell_type": "code",
   "execution_count": null,
   "id": "f1f6fe8f-01e9-463f-bfd0-7f2bdf12a803",
   "metadata": {},
   "outputs": [],
   "source": []
  },
  {
   "cell_type": "code",
   "execution_count": null,
   "id": "13292ae6-d181-4821-b7f8-b66e6354afa7",
   "metadata": {},
   "outputs": [],
   "source": []
  },
  {
   "cell_type": "code",
   "execution_count": null,
   "id": "da67ffbf-821b-491a-8f4c-d49c3a30181a",
   "metadata": {},
   "outputs": [],
   "source": []
  },
  {
   "cell_type": "code",
   "execution_count": null,
   "id": "261f5668-0af4-4f4b-8ed6-733c53b7290e",
   "metadata": {},
   "outputs": [],
   "source": []
  },
  {
   "cell_type": "code",
   "execution_count": null,
   "id": "ad384699-bd86-4cff-a487-fb76088e4705",
   "metadata": {},
   "outputs": [],
   "source": []
  },
  {
   "cell_type": "code",
   "execution_count": null,
   "id": "df256d4c-5bf3-4ba8-ab2c-7b5da207b01e",
   "metadata": {},
   "outputs": [],
   "source": []
  },
  {
   "cell_type": "code",
   "execution_count": null,
   "id": "dc18b95f-01e2-430f-ac30-acacf2289595",
   "metadata": {},
   "outputs": [],
   "source": []
  },
  {
   "cell_type": "code",
   "execution_count": null,
   "id": "0c5af547-576b-48e4-9c62-8f5432d4ed78",
   "metadata": {},
   "outputs": [],
   "source": []
  }
 ],
 "metadata": {
  "kernelspec": {
   "display_name": "Python 3 (ipykernel)",
   "language": "python",
   "name": "python3"
  },
  "language_info": {
   "codemirror_mode": {
    "name": "ipython",
    "version": 3
   },
   "file_extension": ".py",
   "mimetype": "text/x-python",
   "name": "python",
   "nbconvert_exporter": "python",
   "pygments_lexer": "ipython3",
   "version": "3.9.13"
  }
 },
 "nbformat": 4,
 "nbformat_minor": 5
}
